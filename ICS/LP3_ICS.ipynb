{
  "nbformat": 4,
  "nbformat_minor": 0,
  "metadata": {
    "colab": {
      "name": "LP3_ICS.ipynb",
      "provenance": [],
      "collapsed_sections": []
    },
    "kernelspec": {
      "name": "python3",
      "display_name": "Python 3"
    },
    "language_info": {
      "name": "python"
    }
  },
  "cells": [
    {
      "cell_type": "markdown",
      "source": [
        "## DES"
      ],
      "metadata": {
        "id": "_KjvGGwS6tri"
      }
    },
    {
      "cell_type": "code",
      "source": [
        "!pip install pyDes"
      ],
      "metadata": {
        "colab": {
          "base_uri": "https://localhost:8080/"
        },
        "id": "fdVZOIkY6_mn",
        "outputId": "5ae01648-dd57-4652-bb8b-8ab8ba796065"
      },
      "execution_count": 2,
      "outputs": [
        {
          "output_type": "stream",
          "name": "stdout",
          "text": [
            "Collecting pyDes\n",
            "  Downloading pyDes-2.0.1.tar.gz (9.9 kB)\n",
            "Building wheels for collected packages: pyDes\n",
            "  Building wheel for pyDes (setup.py) ... \u001b[?25l\u001b[?25hdone\n",
            "  Created wheel for pyDes: filename=pyDes-2.0.1-py2.py3-none-any.whl size=9566 sha256=2f9c01226d00e088c39a47d37333e2dbb07239bdd7339841de4a7163543bf5a6\n",
            "  Stored in directory: /root/.cache/pip/wheels/57/45/3a/cd3cffc8044aa6b8670109a57db784cc7c64dc52259a11575a\n",
            "Successfully built pyDes\n",
            "Installing collected packages: pyDes\n",
            "Successfully installed pyDes-2.0.1\n"
          ]
        }
      ]
    },
    {
      "cell_type": "code",
      "source": [
        "import pyDes\n",
        "from time import time\n",
        "\n",
        "# For Python3, you'll need to use bytes, i.e.:\n",
        "#key  -> Bytes containing the encryption key. 8 bytes for DES, 16 or 24 bytes\n",
        "#\t for Triple DES\n",
        "#mode -> Optional argument for encryption type, can be either pyDes.ECB\n",
        "#\t(Electronic Code Book), pyDes.CBC (Cypher Block Chaining)\n",
        "#IV   -> Optional Initial Value bytes, must be supplied if using CBC mode.\n",
        "#\t Must be 8 bytes in length.\n",
        "#pad  -> Optional argument, set the pad character (PAD_NORMAL) to use\n",
        "#\t during all encrypt/decrypt operations done with this instance.\n",
        "#padmode -> Optional argument, set the padding mode (PAD_NORMAL or\n",
        "#\t PAD_PKCS5) to use during all encrypt/decrypt operations done\n",
        "#\t with this instance.\n",
        "data = input(\"Please enter plain text for encryption:\")\n",
        "keystring=input(\"Enter 16/24 byte string for key generation:\")\n",
        "k = pyDes.triple_des(keystring, padmode=pyDes.PAD_PKCS5)\n",
        "e = k.encrypt(data)\n",
        "print (\"cipher text: %r\" % e)\n",
        "#%r to be useful for printing a string of unknown encoding\n",
        "print (\"plain text: %r\" % k.decrypt(e))\n",
        "t1 = time()\n",
        "for i in range(1000):\n",
        "     e = k.encrypt(data)\n",
        "t2 = time()\n",
        "print(\"Elapsed time for 1,000 encryptions: {:0.3f}s\".format(t2 - t1))\n"
      ],
      "metadata": {
        "colab": {
          "base_uri": "https://localhost:8080/"
        },
        "id": "wMOcYLTQ6xaQ",
        "outputId": "220de2dc-4f45-403e-f467-fcbae8e0dfe1"
      },
      "execution_count": 3,
      "outputs": [
        {
          "output_type": "stream",
          "name": "stdout",
          "text": [
            "Please enter plain text for encryption:prasann\n",
            "Enter 16/24 byte string for key generation:1010101010101010\n",
            "cipher text: b'/\\xa4\\x86\\x8c\\x0cg2\\xf1'\n",
            "plain text: b'prasann'\n",
            "Elapsed time for 1,000 encryptions: 1.622s\n"
          ]
        }
      ]
    },
    {
      "cell_type": "code",
      "source": [
        "\n",
        "from sys import exit\n",
        "from time import time\n",
        " \n",
        "KeyLength = 10\n",
        "SubKeyLength = 8\n",
        "DataLength = 8\n",
        "FLength = 4\n",
        " \n",
        "# Tables for initial and final permutations (b1, b2, b3, ... b8)\n",
        "IPtable = (2, 6, 3, 1, 4, 8, 5, 7)\n",
        "FPtable = (4, 1, 3, 5, 7, 2, 8, 6)\n",
        " \n",
        "# Tables for subkey generation (k1, k2, k3, ... k10)\n",
        "P10table = (3, 5, 2, 7, 4, 10, 1, 9, 8, 6)\n",
        "P8table = (6, 3, 7, 4, 8, 5, 10, 9)\n",
        " \n",
        "# Tables for the fk function\n",
        "EPtable = (4, 1, 2, 3, 2, 3, 4, 1)\n",
        "S0table = (1, 0, 3, 2, 3, 2, 1, 0, 0, 2, 1, 3, 3, 1, 3, 2)\n",
        "S1table = (0, 1, 2, 3, 2, 0, 1, 3, 3, 0, 1, 0, 2, 1, 0, 3)\n",
        "P4table = (2, 4, 3, 1)\n",
        " \n",
        "def perm(inputByte, permTable):\n",
        "    \"\"\"Permute input byte according to permutation table\"\"\"\n",
        "    outputByte = 0\n",
        "    for index, elem in enumerate(permTable):\n",
        "        if index >= elem:\n",
        "            outputByte |= (inputByte & (128 >> (elem - 1))) >> (index - (elem - 1))\n",
        "        else:\n",
        "            outputByte |= (inputByte & (128 >> (elem - 1))) << ((elem - 1) - index)\n",
        "    return outputByte\n",
        " \n",
        "def ip(inputByte):\n",
        "    \"\"\"Perform the initial permutation on data\"\"\"\n",
        "    return perm(inputByte, IPtable)\n",
        " \n",
        "def fp(inputByte):\n",
        "    \"\"\"Perform the final permutation on data\"\"\"\n",
        "    return perm(inputByte, FPtable)\n",
        " \n",
        "def swapNibbles(inputByte):\n",
        "    \"\"\"Swap the two nibbles of data\"\"\"\n",
        "    return (inputByte << 4 | inputByte >> 4) & 0xff\n",
        " \n",
        "def keyGen(key):\n",
        "    \"\"\"Generate the two required subkeys\"\"\"\n",
        "    def leftShift(keyBitList):\n",
        "        \"\"\"Perform a circular left shift on the first and second five bits\"\"\"\n",
        "        shiftedKey = [None] * KeyLength\n",
        "        shiftedKey[0:9] = keyBitList[1:10]\n",
        "        shiftedKey[4] = keyBitList[0]\n",
        "        shiftedKey[9] = keyBitList[5]\n",
        "        return shiftedKey\n",
        " \n",
        "    # Converts input key (integer) into a list of binary digits\n",
        "    keyList = [(key & 1 << i) >> i for i in reversed(range(KeyLength))]\n",
        "    permKeyList = [None] * KeyLength\n",
        "    for index, elem in enumerate(P10table):\n",
        "        permKeyList[index] = keyList[elem - 1]\n",
        "    shiftedOnceKey = leftShift(permKeyList)\n",
        "    shiftedTwiceKey = leftShift(leftShift(shiftedOnceKey))\n",
        "    subKey1 = subKey2 = 0\n",
        "    for index, elem in enumerate(P8table):\n",
        "        subKey1 += (128 >> index) * shiftedOnceKey[elem - 1]\n",
        "        subKey2 += (128 >> index) * shiftedTwiceKey[elem - 1]\n",
        "    return (subKey1, subKey2)\n",
        " \n",
        "def fk(subKey, inputData):\n",
        "    \"\"\"Apply Feistel function on data with given subkey\"\"\"\n",
        "    def F(sKey, rightNibble):\n",
        "        aux = sKey ^ perm(swapNibbles(rightNibble), EPtable)\n",
        "        index1 = ((aux & 0x80) >> 4) + ((aux & 0x40) >> 5) + \\\n",
        "                 ((aux & 0x20) >> 5) + ((aux & 0x10) >> 2)\n",
        "        index2 = ((aux & 0x08) >> 0) + ((aux & 0x04) >> 1) + \\\n",
        "                 ((aux & 0x02) >> 1) + ((aux & 0x01) << 2)\n",
        "        sboxOutputs = swapNibbles((S0table[index1] << 2) + S1table[index2])\n",
        "        return perm(sboxOutputs, P4table)\n",
        " \n",
        "    leftNibble, rightNibble = inputData & 0xf0, inputData & 0x0f\n",
        "    return (leftNibble ^ F(subKey, rightNibble)) | rightNibble\n",
        " \n",
        "def encrypt(key, plaintext):\n",
        "    \"\"\"Encrypt plaintext with given key\"\"\"\n",
        "    data = fk(keyGen(key)[0], ip(plaintext))\n",
        "    return fp(fk(keyGen(key)[1], swapNibbles(data)))\n",
        " \n",
        "def decrypt(key, ciphertext):\n",
        "    \"\"\"Decrypt ciphertext with given key\"\"\"\n",
        "    data = fk(keyGen(key)[1], ip(ciphertext))\n",
        "    return fp(fk(keyGen(key)[0], swapNibbles(data)))  \n",
        " \n",
        "if __name__ == '__main__':\n",
        "    \n",
        "    try:\n",
        "        assert encrypt(0b0000000000, 0b10101010) == 0b00010001\n",
        "    except AssertionError:\n",
        "        print(\"Error on encrypt:\")\n",
        "        print(\"Output: \", encrypt(0b0000000000, 0b10101010), \"Expected: \", 0b00010001)\n",
        "        exit(1)\n",
        "    try:\n",
        "        assert encrypt(0b1110001110, 0b10101010) == 0b11001010\n",
        "    except AssertionError:\n",
        "        print(\"Error on encrypt:\")\n",
        "        print(\"Output: \", encrypt(0b1110001110, 0b10101010), \"Expected: \", 0b11001010)\n",
        "        exit(1)\n",
        "    try:\n",
        "        assert encrypt(0b1110001110, 0b01010101) == 0b01110000\n",
        "    except AssertionError:\n",
        "        print(\"Error on encrypt:\")\n",
        "        print(\"Output: \", encrypt(0b1110001110, 0b01010101), \"Expected: \", 0b01110000)\n",
        "        exit(1)\n",
        "    try:\n",
        "        assert encrypt(0b1111111111, 0b10101010) == 0b00000100\n",
        "    except AssertionError:\n",
        "        print(\"Error on encrypt:\")\n",
        "        print(\"Output: \", encrypt(0b1111111111, 0b10101010), \"Expected: \", 0b00000100)\n",
        "        exit(1)\n",
        " \n",
        "    t1 = time()\n",
        "    for i in range(1000):\n",
        "        encrypt(0b1110001110, 0b10101010)\n",
        "    t2 = time()\n",
        "    print(\"Elapsed time for 1,000 encryptions: {:0.3f}s\".format(t2 - t1))\n",
        "\n"
      ],
      "metadata": {
        "colab": {
          "base_uri": "https://localhost:8080/"
        },
        "id": "U07Mz6_n628c",
        "outputId": "683dc375-2eab-4947-e7ac-34e746a89180"
      },
      "execution_count": 6,
      "outputs": [
        {
          "output_type": "stream",
          "name": "stdout",
          "text": [
            "Elapsed time for 1,000 encryptions: 0.038s\n"
          ]
        }
      ]
    },
    {
      "cell_type": "markdown",
      "source": [
        "## AES"
      ],
      "metadata": {
        "id": "vtOCKkPi67SE"
      }
    },
    {
      "cell_type": "code",
      "source": [
        "!pip install pycrypto"
      ],
      "metadata": {
        "colab": {
          "base_uri": "https://localhost:8080/"
        },
        "id": "n8UASCVZ7gLh",
        "outputId": "8cfe5a49-b12e-4469-ceca-9e02e1ab11c5"
      },
      "execution_count": 8,
      "outputs": [
        {
          "output_type": "stream",
          "name": "stdout",
          "text": [
            "Collecting pycrypto\n",
            "  Downloading pycrypto-2.6.1.tar.gz (446 kB)\n",
            "\u001b[?25l\r\u001b[K     |▊                               | 10 kB 15.7 MB/s eta 0:00:01\r\u001b[K     |█▌                              | 20 kB 19.6 MB/s eta 0:00:01\r\u001b[K     |██▏                             | 30 kB 15.8 MB/s eta 0:00:01\r\u001b[K     |███                             | 40 kB 10.7 MB/s eta 0:00:01\r\u001b[K     |███▊                            | 51 kB 6.0 MB/s eta 0:00:01\r\u001b[K     |████▍                           | 61 kB 7.0 MB/s eta 0:00:01\r\u001b[K     |█████▏                          | 71 kB 6.9 MB/s eta 0:00:01\r\u001b[K     |█████▉                          | 81 kB 5.5 MB/s eta 0:00:01\r\u001b[K     |██████▋                         | 92 kB 6.1 MB/s eta 0:00:01\r\u001b[K     |███████▍                        | 102 kB 6.7 MB/s eta 0:00:01\r\u001b[K     |████████                        | 112 kB 6.7 MB/s eta 0:00:01\r\u001b[K     |████████▉                       | 122 kB 6.7 MB/s eta 0:00:01\r\u001b[K     |█████████▌                      | 133 kB 6.7 MB/s eta 0:00:01\r\u001b[K     |██████████▎                     | 143 kB 6.7 MB/s eta 0:00:01\r\u001b[K     |███████████                     | 153 kB 6.7 MB/s eta 0:00:01\r\u001b[K     |███████████▊                    | 163 kB 6.7 MB/s eta 0:00:01\r\u001b[K     |████████████▌                   | 174 kB 6.7 MB/s eta 0:00:01\r\u001b[K     |█████████████▏                  | 184 kB 6.7 MB/s eta 0:00:01\r\u001b[K     |██████████████                  | 194 kB 6.7 MB/s eta 0:00:01\r\u001b[K     |██████████████▊                 | 204 kB 6.7 MB/s eta 0:00:01\r\u001b[K     |███████████████▍                | 215 kB 6.7 MB/s eta 0:00:01\r\u001b[K     |████████████████▏               | 225 kB 6.7 MB/s eta 0:00:01\r\u001b[K     |█████████████████               | 235 kB 6.7 MB/s eta 0:00:01\r\u001b[K     |█████████████████▋              | 245 kB 6.7 MB/s eta 0:00:01\r\u001b[K     |██████████████████▍             | 256 kB 6.7 MB/s eta 0:00:01\r\u001b[K     |███████████████████             | 266 kB 6.7 MB/s eta 0:00:01\r\u001b[K     |███████████████████▉            | 276 kB 6.7 MB/s eta 0:00:01\r\u001b[K     |████████████████████▋           | 286 kB 6.7 MB/s eta 0:00:01\r\u001b[K     |█████████████████████▎          | 296 kB 6.7 MB/s eta 0:00:01\r\u001b[K     |██████████████████████          | 307 kB 6.7 MB/s eta 0:00:01\r\u001b[K     |██████████████████████▊         | 317 kB 6.7 MB/s eta 0:00:01\r\u001b[K     |███████████████████████▌        | 327 kB 6.7 MB/s eta 0:00:01\r\u001b[K     |████████████████████████▎       | 337 kB 6.7 MB/s eta 0:00:01\r\u001b[K     |█████████████████████████       | 348 kB 6.7 MB/s eta 0:00:01\r\u001b[K     |█████████████████████████▊      | 358 kB 6.7 MB/s eta 0:00:01\r\u001b[K     |██████████████████████████▍     | 368 kB 6.7 MB/s eta 0:00:01\r\u001b[K     |███████████████████████████▏    | 378 kB 6.7 MB/s eta 0:00:01\r\u001b[K     |████████████████████████████    | 389 kB 6.7 MB/s eta 0:00:01\r\u001b[K     |████████████████████████████▋   | 399 kB 6.7 MB/s eta 0:00:01\r\u001b[K     |█████████████████████████████▍  | 409 kB 6.7 MB/s eta 0:00:01\r\u001b[K     |██████████████████████████████  | 419 kB 6.7 MB/s eta 0:00:01\r\u001b[K     |██████████████████████████████▉ | 430 kB 6.7 MB/s eta 0:00:01\r\u001b[K     |███████████████████████████████▋| 440 kB 6.7 MB/s eta 0:00:01\r\u001b[K     |████████████████████████████████| 446 kB 6.7 MB/s \n",
            "\u001b[?25hBuilding wheels for collected packages: pycrypto\n",
            "  Building wheel for pycrypto (setup.py) ... \u001b[?25l\u001b[?25hdone\n",
            "  Created wheel for pycrypto: filename=pycrypto-2.6.1-cp37-cp37m-linux_x86_64.whl size=499932 sha256=185e543e82688d2f4d3d8cd5a5cac1da981a8188eb558d45445597a8bb6ba7fc\n",
            "  Stored in directory: /root/.cache/pip/wheels/cf/85/ba/bbd7c96add459de7598fb424e5ff2309baf2095c844ac0f191\n",
            "Successfully built pycrypto\n",
            "Installing collected packages: pycrypto\n",
            "Successfully installed pycrypto-2.6.1\n"
          ]
        }
      ]
    },
    {
      "cell_type": "code",
      "source": [
        "# python3 aes.py\n",
        "from Crypto.Cipher import AES\n",
        "\n",
        "#key has to be either 16, 24 or 32 bytes\n",
        "def paddedKey(key):\n",
        "    while len(key) % 8 !=0:\n",
        "        key +=' '\n",
        "    return key\n",
        "    \n",
        "#text has to in multiples of 26 bytes\n",
        "def paddedText(text):\n",
        "    while len(text) % 16 != 0:\n",
        "        text += ' '\n",
        "    return text\n",
        "        \n",
        "plain_input = input(\"Enter the text to be encrypted: \")\n",
        "plain = paddedText(plain_input)\n",
        " \n",
        "key_input = input(\"Enter in a key between 16 and 32 characters: \")\n",
        "key = paddedKey(key_input)\n",
        " \n",
        "if(len(key_input)< 16 & len(key_input)> 32):\n",
        " print(\"key must be between 16 and 32 characters!\")\n",
        " \n",
        "cipher = AES.new(key)\n",
        "ciphertext = cipher.encrypt(plain)\n",
        "print(ciphertext)\n",
        " \n",
        "cleartext = cipher.decrypt(ciphertext)\n",
        "print(cleartext)\n"
      ],
      "metadata": {
        "colab": {
          "base_uri": "https://localhost:8080/"
        },
        "id": "4FkpcDkh69su",
        "outputId": "e5f8c6f4-6ef6-4c1a-9983-44a8ef2ed307"
      },
      "execution_count": 9,
      "outputs": [
        {
          "output_type": "stream",
          "name": "stdout",
          "text": [
            "Enter the text to be encrypted: prasann\n",
            "Enter in a key between 16 and 32 characters: 1010101010101010\n",
            "b'[s\\x870\\xc6\\xb0\\x84\\x13.\\xbf+\\xb9\\xa5\\xe2\\xe9\\xf7'\n",
            "b'prasann         '\n"
          ]
        }
      ]
    },
    {
      "cell_type": "code",
      "source": [
        "# Description: Simplified AES implementation in Python 3\n",
        "import sys\n",
        " \n",
        "# S-Box\n",
        "sBox  = [0x9, 0x4, 0xa, 0xb, 0xd, 0x1, 0x8, 0x5,\n",
        "         0x6, 0x2, 0x0, 0x3, 0xc, 0xe, 0xf, 0x7]\n",
        " \n",
        "# Inverse S-Box\n",
        "sBoxI = [0xa, 0x5, 0x9, 0xb, 0x1, 0x7, 0x8, 0xf,\n",
        "         0x6, 0x0, 0x2, 0x3, 0xc, 0x4, 0xd, 0xe]\n",
        " \n",
        "# Round keys: K0 = w0 + w1; K1 = w2 + w3; K2 = w4 + w5\n",
        "w = [None] * 6\n",
        " \n",
        "def mult(p1, p2):\n",
        "    \"\"\"Multiply two polynomials in GF(2^4)/x^4 + x + 1\"\"\"\n",
        "    p = 0\n",
        "    while p2:\n",
        "        if p2 & 0b1:\n",
        "            p ^= p1\n",
        "        p1 <<= 1\n",
        "        if p1 & 0b10000:\n",
        "            p1 ^= 0b11\n",
        "        p2 >>= 1\n",
        "    return p & 0b1111\n",
        " \n",
        "def intToVec(n):\n",
        "    \"\"\"Convert a 2-byte integer into a 4-element vector\"\"\"\n",
        "    return [n >> 12, (n >> 4) & 0xf, (n >> 8) & 0xf,  n & 0xf]            \n",
        " \n",
        "def vecToInt(m):\n",
        "    \"\"\"Convert a 4-element vector into 2-byte integer\"\"\"\n",
        "    return (m[0] << 12) + (m[2] << 8) + (m[1] << 4) + m[3]\n",
        " \n",
        "def addKey(s1, s2):\n",
        "    \"\"\"Add two keys in GF(2^4)\"\"\"  \n",
        "    return [i ^ j for i, j in zip(s1, s2)]\n",
        "     \n",
        "def sub4NibList(sbox, s):\n",
        "    \"\"\"Nibble substitution function\"\"\"\n",
        "    return [sbox[e] for e in s]\n",
        "     \n",
        "def shiftRow(s):\n",
        "    \"\"\"ShiftRow function\"\"\"\n",
        "    return [s[0], s[1], s[3], s[2]]\n",
        " \n",
        "def keyExp(key):\n",
        "    \"\"\"Generate the three round keys\"\"\"\n",
        "    def sub2Nib(b):\n",
        "        \"\"\"Swap each nibble and substitute it using sBox\"\"\"\n",
        "        return sBox[b >> 4] + (sBox[b & 0x0f] << 4)\n",
        " \n",
        "    Rcon1, Rcon2 = 0b10000000, 0b00110000\n",
        "    w[0] = (key & 0xff00) >> 8\n",
        "    w[1] = key & 0x00ff\n",
        "    w[2] = w[0] ^ Rcon1 ^ sub2Nib(w[1])\n",
        "    w[3] = w[2] ^ w[1]\n",
        "    w[4] = w[2] ^ Rcon2 ^ sub2Nib(w[3])\n",
        "    w[5] = w[4] ^ w[3]\n",
        " \n",
        "def encrypt(ptext):\n",
        "    \"\"\"Encrypt plaintext block\"\"\"\n",
        "    def mixCol(s):\n",
        "        return [s[0] ^ mult(4, s[2]), s[1] ^ mult(4, s[3]),\n",
        "                s[2] ^ mult(4, s[0]), s[3] ^ mult(4, s[1])]    \n",
        "     \n",
        "    state = intToVec(((w[0] << 8) + w[1]) ^ ptext)\n",
        "    state = mixCol(shiftRow(sub4NibList(sBox, state)))\n",
        "    state = addKey(intToVec((w[2] << 8) + w[3]), state)\n",
        "    state = shiftRow(sub4NibList(sBox, state))\n",
        "    return vecToInt(addKey(intToVec((w[4] << 8) + w[5]), state))\n",
        "     \n",
        "def decrypt(ctext):\n",
        "    \"\"\"Decrypt ciphertext block\"\"\"\n",
        "    def iMixCol(s):\n",
        "        return [mult(9, s[0]) ^ mult(2, s[2]), mult(9, s[1]) ^ mult(2, s[3]),\n",
        "                mult(9, s[2]) ^ mult(2, s[0]), mult(9, s[3]) ^ mult(2, s[1])]\n",
        "     \n",
        "    state = intToVec(((w[4] << 8) + w[5]) ^ ctext)\n",
        "    state = sub4NibList(sBoxI, shiftRow(state))\n",
        "    state = iMixCol(addKey(intToVec((w[2] << 8) + w[3]), state))\n",
        "    state = sub4NibList(sBoxI, shiftRow(state))\n",
        "    return vecToInt(addKey(intToVec((w[0] << 8) + w[1]), state))\n",
        " \n",
        "if __name__ == '__main__':\n",
        "    \n",
        "     \n",
        "    plaintext = 0b1101011100101000\n",
        "    key = 0b0100101011110101\n",
        "    ciphertext = 0b0010010011101100\n",
        "    keyExp(key)\n",
        "    try:\n",
        "        assert encrypt(plaintext) == ciphertext\n",
        "    except AssertionError:\n",
        "        print(\"Encryption error\")\n",
        "        print(encrypt(plaintext), ciphertext)\n",
        "        sys.exit(1)\n",
        "    try:\n",
        "        assert decrypt(ciphertext) == plaintext\n",
        "    except AssertionError:\n",
        "        print(\"Decryption error\")\n",
        "        print(decrypt(ciphertext), plaintext)\n",
        "        sys.exit(1)\n",
        "    print(\"Test ok!\")"
      ],
      "metadata": {
        "colab": {
          "base_uri": "https://localhost:8080/"
        },
        "id": "U1WxSZGh7wQa",
        "outputId": "9e743e98-c6b6-48d4-9466-11c79683d3db"
      },
      "execution_count": 12,
      "outputs": [
        {
          "output_type": "stream",
          "name": "stdout",
          "text": [
            "Test ok!\n"
          ]
        }
      ]
    },
    {
      "cell_type": "markdown",
      "source": [
        "## Diffie Hellman"
      ],
      "metadata": {
        "id": "jBXl8A-Q73xC"
      }
    },
    {
      "cell_type": "code",
      "source": [
        "#  7 11 3 6\n",
        "#Diffie Hellman Key Exchange Alogorithm\n",
        "# Begin\n",
        "sharedPrime = int(input(\"Enter shared Prime(n):\"))\n",
        "sharedBase = int(input(\"Enter shared Base(g):\"))\n",
        "aliceSecret = int(input(\"Enter Alice Secret Key(x):\"))\n",
        "bobSecret = int(input(\"Enter Bob Secret Key(y):\"))\n",
        "print( \"Publicly Shared Variables:\")\n",
        "print( \"    Publicly Shared Prime: \" , sharedPrime )\n",
        "print( \"    Publicly Shared Base:  \" , sharedBase )\n",
        " \n",
        "# Alice Sends Bob A = g^x mod n\n",
        "A = (sharedBase**aliceSecret) % sharedPrime\n",
        "print( \"\\n  Alice Sends(A) Over Public Chanel: \" , A )\n",
        " \n",
        "# Bob Sends Alice B = g^y mod n\n",
        "B = (sharedBase ** bobSecret) % sharedPrime\n",
        "print(\"Bob Sends(B) Over Public Chanel: \", B )\n",
        " \n",
        "print( \"\\n------------\\n\" )\n",
        "print( \"Privately Calculated Shared Secret:\" )\n",
        "# Alice Computes Shared Secret: K1 = B^x mod n\n",
        "aliceSharedSecret = (B ** aliceSecret) % sharedPrime\n",
        "print( \"    Alice Shared Secret: \", aliceSharedSecret )\n",
        " \n",
        "# Bob Computes Shared Secret: K2 = A^y mod n\n",
        "bobSharedSecret = (A**bobSecret) % sharedPrime\n",
        "print( \"    Bob Shared Secret: \", bobSharedSecret )\n"
      ],
      "metadata": {
        "colab": {
          "base_uri": "https://localhost:8080/"
        },
        "id": "3fgymSWs79Jt",
        "outputId": "848a586f-7768-477e-bffa-93e0ad7af470"
      },
      "execution_count": 13,
      "outputs": [
        {
          "output_type": "stream",
          "name": "stdout",
          "text": [
            "Enter shared Prime(n):7\n",
            "Enter shared Base(g):11\n",
            "Enter Alice Secret Key(x):3\n",
            "Enter Bob Secret Key(y):6\n",
            "Publicly Shared Variables:\n",
            "    Publicly Shared Prime:  7\n",
            "    Publicly Shared Base:   11\n",
            "\n",
            "  Alice Sends(A) Over Public Chanel:  1\n",
            "Bob Sends(B) Over Public Chanel:  1\n",
            "\n",
            "------------\n",
            "\n",
            "Privately Calculated Shared Secret:\n",
            "    Alice Shared Secret:  1\n",
            "    Bob Shared Secret:  1\n"
          ]
        }
      ]
    },
    {
      "cell_type": "markdown",
      "source": [
        "## RSA"
      ],
      "metadata": {
        "id": "XdDRbikg8GRB"
      }
    },
    {
      "cell_type": "code",
      "source": [
        "# 17, 13, 5\n",
        "\n",
        "def gcd(a, b): # calculates GCD of a and d\n",
        "    while b != 0:\n",
        "        c = a % b\n",
        "        a = b\n",
        "        b = c\n",
        "    return a\n",
        "\n",
        "\n",
        "def modinv(a, m): # calculates modulo inverse of a for mod m\n",
        "    for x in range(1, m):\n",
        "        if (a * x) % m == 1:\n",
        "            return x\n",
        "    return None\n",
        "\n",
        "\n",
        "def coprimes(a): # calculates all possible co-prime numbers with a\n",
        "    l = []\n",
        "    for x in range(2, a):\n",
        "        if gcd(a, x) == 1 and modinv(x, phi) != None:\n",
        "            l.append(x)\n",
        "    for x in l:\n",
        "        if x == modinv(x, phi):\n",
        "            l.remove(x)\n",
        "    return l\n",
        "\n",
        "def encrypt_block(m): # encrypts a single block\n",
        "    c = m ** e % n\n",
        "    return c\n",
        "\n",
        "\n",
        "def decrypt_block(c): # decrypts a single block\n",
        "    m = c ** d % n\n",
        "    return m\n",
        "\n",
        "\n",
        "def encrypt_string(s): # applies encryption\n",
        "    return ''.join([chr(encrypt_block(ord(x))) for x in list(s)])\n",
        "\n",
        "\n",
        "def decrypt_string(s): # applies decryption\n",
        "    return ''.join([chr(decrypt_block(ord(x))) for x in list(s)])\n",
        "\n",
        "if __name__ == \"__main__\":\n",
        "    p = int(input('Enter prime p: '))\n",
        "    q = int(input('Enter prime q: '))\n",
        "\n",
        "    print(\"Choosen primes:\\np=\" + str(p) + \", q=\" + str(q) + \"\\n\")\n",
        "\n",
        "    n = p * q\n",
        "    print(\"n = p * q = \" + str(n) + \"\\n\")\n",
        "\n",
        "    phi = (p - 1) * (q - 1)\n",
        "    print(\"Euler's function (totient) [phi(n)]: \" + str(phi) + \"\\n\")\n",
        "\n",
        "    print(\"Choose an e from a below coprimes array:\\n\")\n",
        "    print(str(coprimes(phi)) + \"\\n\")\n",
        "    e = int(input())\n",
        "\n",
        "    d = modinv(e, phi) # calculates the decryption key d\n",
        "\n",
        "    print(\"\\nYour public key is a pair of numbers (e=\" + str(e) + \", n=\" + str(n) + \").\\n\")\n",
        "    print(\"Your private key is a pair of numbers (d=\" + str(d) + \", n=\" + str(n) + \").\\n\")\n",
        "\n",
        "    s = input(\"Enter a message to encrypt: \")\n",
        "    print(\"\\nPlain message: \" + str(s) + \"\\n\")\n",
        "    enc = encrypt_string(s)\n",
        "    print(\"Encrypted message: \", enc, \"\\n\")\n",
        "    dec = decrypt_string(enc)\n",
        "    print(\"Decrypted message: \" + dec + \"\\n\")\n",
        "                        \n"
      ],
      "metadata": {
        "colab": {
          "base_uri": "https://localhost:8080/"
        },
        "id": "6YS-J-Ig8IZO",
        "outputId": "24407403-1e4e-473a-d100-3543b6acc694"
      },
      "execution_count": 14,
      "outputs": [
        {
          "output_type": "stream",
          "name": "stdout",
          "text": [
            "Enter prime p: 17\n",
            "Enter prime q: 13\n",
            "Choosen primes:\n",
            "p=17, q=13\n",
            "\n",
            "n = p * q = 221\n",
            "\n",
            "Euler's function (totient) [phi(n)]: 192\n",
            "\n",
            "Choose an e from a below coprimes array:\n",
            "\n",
            "[5, 7, 11, 13, 17, 19, 23, 25, 29, 35, 37, 41, 43, 47, 49, 53, 55, 59, 61, 67, 71, 73, 77, 79, 83, 85, 89, 91, 97, 101, 103, 107, 109, 113, 115, 119, 121, 125, 131, 133, 137, 139, 143, 145, 149, 151, 155, 157, 163, 167, 169, 173, 175, 179, 181, 185, 187]\n",
            "\n",
            "5\n",
            "\n",
            "Your public key is a pair of numbers (e=5, n=221).\n",
            "\n",
            "Your private key is a pair of numbers (d=77, n=221).\n",
            "\n",
            "Enter a message to encrypt: prasann\n",
            "\n",
            "Plain message: prasann\n",
            "\n",
            "Encrypted message:  }­6b6 \n",
            "\n",
            "Decrypted message: prasann\n",
            "\n"
          ]
        }
      ]
    }
  ]
}