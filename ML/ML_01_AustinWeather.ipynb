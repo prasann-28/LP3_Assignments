{
  "cells": [
    {
      "cell_type": "markdown",
      "metadata": {
        "id": "gJftfKiFKWgZ"
      },
      "source": [
        "# **ML 1 Linear Regression**"
      ]
    },
    {
      "cell_type": "markdown",
      "metadata": {
        "id": "xfpVnxkfKcSr"
      },
      "source": [
        "### Importing Libraries"
      ]
    },
    {
      "cell_type": "code",
      "execution_count": null,
      "metadata": {
        "id": "LHkgg5r1KDuE"
      },
      "outputs": [],
      "source": [
        "import pandas as pd  \n",
        "import numpy as np  \n",
        "import matplotlib.pyplot as plt  \n",
        "import seaborn as seabornInstance \n",
        "from sklearn.model_selection import train_test_split \n",
        "from sklearn.linear_model import LinearRegression\n",
        "from sklearn import metrics\n",
        "%matplotlib inline"
      ]
    },
    {
      "cell_type": "markdown",
      "metadata": {
        "id": "DOEsBtjoKikI"
      },
      "source": [
        "### Reading the dataset"
      ]
    },
    {
      "cell_type": "code",
      "execution_count": null,
      "metadata": {
        "colab": {
          "base_uri": "https://localhost:8080/",
          "height": 382
        },
        "id": "lkc3wcByKVo5",
        "outputId": "0f3def25-d449-4048-cf6c-36ff0016b48a"
      },
      "outputs": [
        {
          "data": {
            "text/html": [
              "\n",
              "  <div id=\"df-9817d4a2-0d41-4f1c-96e5-7472e35f3f9d\">\n",
              "    <div class=\"colab-df-container\">\n",
              "      <div>\n",
              "<style scoped>\n",
              "    .dataframe tbody tr th:only-of-type {\n",
              "        vertical-align: middle;\n",
              "    }\n",
              "\n",
              "    .dataframe tbody tr th {\n",
              "        vertical-align: top;\n",
              "    }\n",
              "\n",
              "    .dataframe thead th {\n",
              "        text-align: right;\n",
              "    }\n",
              "</style>\n",
              "<table border=\"1\" class=\"dataframe\">\n",
              "  <thead>\n",
              "    <tr style=\"text-align: right;\">\n",
              "      <th></th>\n",
              "      <th>Date</th>\n",
              "      <th>TempHighF</th>\n",
              "      <th>TempAvgF</th>\n",
              "      <th>TempLowF</th>\n",
              "      <th>DewPointHighF</th>\n",
              "      <th>DewPointAvgF</th>\n",
              "      <th>DewPointLowF</th>\n",
              "      <th>HumidityHighPercent</th>\n",
              "      <th>HumidityAvgPercent</th>\n",
              "      <th>HumidityLowPercent</th>\n",
              "      <th>...</th>\n",
              "      <th>SeaLevelPressureAvgInches</th>\n",
              "      <th>SeaLevelPressureLowInches</th>\n",
              "      <th>VisibilityHighMiles</th>\n",
              "      <th>VisibilityAvgMiles</th>\n",
              "      <th>VisibilityLowMiles</th>\n",
              "      <th>WindHighMPH</th>\n",
              "      <th>WindAvgMPH</th>\n",
              "      <th>WindGustMPH</th>\n",
              "      <th>PrecipitationSumInches</th>\n",
              "      <th>Events</th>\n",
              "    </tr>\n",
              "  </thead>\n",
              "  <tbody>\n",
              "    <tr>\n",
              "      <th>0</th>\n",
              "      <td>2013-12-21</td>\n",
              "      <td>74</td>\n",
              "      <td>60</td>\n",
              "      <td>45</td>\n",
              "      <td>67</td>\n",
              "      <td>49</td>\n",
              "      <td>43</td>\n",
              "      <td>93</td>\n",
              "      <td>75</td>\n",
              "      <td>57</td>\n",
              "      <td>...</td>\n",
              "      <td>29.68</td>\n",
              "      <td>29.59</td>\n",
              "      <td>10</td>\n",
              "      <td>7</td>\n",
              "      <td>2</td>\n",
              "      <td>20</td>\n",
              "      <td>4</td>\n",
              "      <td>31</td>\n",
              "      <td>0.46</td>\n",
              "      <td>Rain , Thunderstorm</td>\n",
              "    </tr>\n",
              "    <tr>\n",
              "      <th>1</th>\n",
              "      <td>2013-12-22</td>\n",
              "      <td>56</td>\n",
              "      <td>48</td>\n",
              "      <td>39</td>\n",
              "      <td>43</td>\n",
              "      <td>36</td>\n",
              "      <td>28</td>\n",
              "      <td>93</td>\n",
              "      <td>68</td>\n",
              "      <td>43</td>\n",
              "      <td>...</td>\n",
              "      <td>30.13</td>\n",
              "      <td>29.87</td>\n",
              "      <td>10</td>\n",
              "      <td>10</td>\n",
              "      <td>5</td>\n",
              "      <td>16</td>\n",
              "      <td>6</td>\n",
              "      <td>25</td>\n",
              "      <td>0</td>\n",
              "      <td></td>\n",
              "    </tr>\n",
              "    <tr>\n",
              "      <th>2</th>\n",
              "      <td>2013-12-23</td>\n",
              "      <td>58</td>\n",
              "      <td>45</td>\n",
              "      <td>32</td>\n",
              "      <td>31</td>\n",
              "      <td>27</td>\n",
              "      <td>23</td>\n",
              "      <td>76</td>\n",
              "      <td>52</td>\n",
              "      <td>27</td>\n",
              "      <td>...</td>\n",
              "      <td>30.49</td>\n",
              "      <td>30.41</td>\n",
              "      <td>10</td>\n",
              "      <td>10</td>\n",
              "      <td>10</td>\n",
              "      <td>8</td>\n",
              "      <td>3</td>\n",
              "      <td>12</td>\n",
              "      <td>0</td>\n",
              "      <td></td>\n",
              "    </tr>\n",
              "    <tr>\n",
              "      <th>3</th>\n",
              "      <td>2013-12-24</td>\n",
              "      <td>61</td>\n",
              "      <td>46</td>\n",
              "      <td>31</td>\n",
              "      <td>36</td>\n",
              "      <td>28</td>\n",
              "      <td>21</td>\n",
              "      <td>89</td>\n",
              "      <td>56</td>\n",
              "      <td>22</td>\n",
              "      <td>...</td>\n",
              "      <td>30.45</td>\n",
              "      <td>30.3</td>\n",
              "      <td>10</td>\n",
              "      <td>10</td>\n",
              "      <td>7</td>\n",
              "      <td>12</td>\n",
              "      <td>4</td>\n",
              "      <td>20</td>\n",
              "      <td>0</td>\n",
              "      <td></td>\n",
              "    </tr>\n",
              "    <tr>\n",
              "      <th>4</th>\n",
              "      <td>2013-12-25</td>\n",
              "      <td>58</td>\n",
              "      <td>50</td>\n",
              "      <td>41</td>\n",
              "      <td>44</td>\n",
              "      <td>40</td>\n",
              "      <td>36</td>\n",
              "      <td>86</td>\n",
              "      <td>71</td>\n",
              "      <td>56</td>\n",
              "      <td>...</td>\n",
              "      <td>30.33</td>\n",
              "      <td>30.27</td>\n",
              "      <td>10</td>\n",
              "      <td>10</td>\n",
              "      <td>7</td>\n",
              "      <td>10</td>\n",
              "      <td>2</td>\n",
              "      <td>16</td>\n",
              "      <td>T</td>\n",
              "      <td></td>\n",
              "    </tr>\n",
              "  </tbody>\n",
              "</table>\n",
              "<p>5 rows × 21 columns</p>\n",
              "</div>\n",
              "      <button class=\"colab-df-convert\" onclick=\"convertToInteractive('df-9817d4a2-0d41-4f1c-96e5-7472e35f3f9d')\"\n",
              "              title=\"Convert this dataframe to an interactive table.\"\n",
              "              style=\"display:none;\">\n",
              "        \n",
              "  <svg xmlns=\"http://www.w3.org/2000/svg\" height=\"24px\"viewBox=\"0 0 24 24\"\n",
              "       width=\"24px\">\n",
              "    <path d=\"M0 0h24v24H0V0z\" fill=\"none\"/>\n",
              "    <path d=\"M18.56 5.44l.94 2.06.94-2.06 2.06-.94-2.06-.94-.94-2.06-.94 2.06-2.06.94zm-11 1L8.5 8.5l.94-2.06 2.06-.94-2.06-.94L8.5 2.5l-.94 2.06-2.06.94zm10 10l.94 2.06.94-2.06 2.06-.94-2.06-.94-.94-2.06-.94 2.06-2.06.94z\"/><path d=\"M17.41 7.96l-1.37-1.37c-.4-.4-.92-.59-1.43-.59-.52 0-1.04.2-1.43.59L10.3 9.45l-7.72 7.72c-.78.78-.78 2.05 0 2.83L4 21.41c.39.39.9.59 1.41.59.51 0 1.02-.2 1.41-.59l7.78-7.78 2.81-2.81c.8-.78.8-2.07 0-2.86zM5.41 20L4 18.59l7.72-7.72 1.47 1.35L5.41 20z\"/>\n",
              "  </svg>\n",
              "      </button>\n",
              "      \n",
              "  <style>\n",
              "    .colab-df-container {\n",
              "      display:flex;\n",
              "      flex-wrap:wrap;\n",
              "      gap: 12px;\n",
              "    }\n",
              "\n",
              "    .colab-df-convert {\n",
              "      background-color: #E8F0FE;\n",
              "      border: none;\n",
              "      border-radius: 50%;\n",
              "      cursor: pointer;\n",
              "      display: none;\n",
              "      fill: #1967D2;\n",
              "      height: 32px;\n",
              "      padding: 0 0 0 0;\n",
              "      width: 32px;\n",
              "    }\n",
              "\n",
              "    .colab-df-convert:hover {\n",
              "      background-color: #E2EBFA;\n",
              "      box-shadow: 0px 1px 2px rgba(60, 64, 67, 0.3), 0px 1px 3px 1px rgba(60, 64, 67, 0.15);\n",
              "      fill: #174EA6;\n",
              "    }\n",
              "\n",
              "    [theme=dark] .colab-df-convert {\n",
              "      background-color: #3B4455;\n",
              "      fill: #D2E3FC;\n",
              "    }\n",
              "\n",
              "    [theme=dark] .colab-df-convert:hover {\n",
              "      background-color: #434B5C;\n",
              "      box-shadow: 0px 1px 3px 1px rgba(0, 0, 0, 0.15);\n",
              "      filter: drop-shadow(0px 1px 2px rgba(0, 0, 0, 0.3));\n",
              "      fill: #FFFFFF;\n",
              "    }\n",
              "  </style>\n",
              "\n",
              "      <script>\n",
              "        const buttonEl =\n",
              "          document.querySelector('#df-9817d4a2-0d41-4f1c-96e5-7472e35f3f9d button.colab-df-convert');\n",
              "        buttonEl.style.display =\n",
              "          google.colab.kernel.accessAllowed ? 'block' : 'none';\n",
              "\n",
              "        async function convertToInteractive(key) {\n",
              "          const element = document.querySelector('#df-9817d4a2-0d41-4f1c-96e5-7472e35f3f9d');\n",
              "          const dataTable =\n",
              "            await google.colab.kernel.invokeFunction('convertToInteractive',\n",
              "                                                     [key], {});\n",
              "          if (!dataTable) return;\n",
              "\n",
              "          const docLinkHtml = 'Like what you see? Visit the ' +\n",
              "            '<a target=\"_blank\" href=https://colab.research.google.com/notebooks/data_table.ipynb>data table notebook</a>'\n",
              "            + ' to learn more about interactive tables.';\n",
              "          element.innerHTML = '';\n",
              "          dataTable['output_type'] = 'display_data';\n",
              "          await google.colab.output.renderOutput(dataTable, element);\n",
              "          const docLink = document.createElement('div');\n",
              "          docLink.innerHTML = docLinkHtml;\n",
              "          element.appendChild(docLink);\n",
              "        }\n",
              "      </script>\n",
              "    </div>\n",
              "  </div>\n",
              "  "
            ],
            "text/plain": [
              "         Date  TempHighF  TempAvgF  TempLowF DewPointHighF DewPointAvgF  \\\n",
              "0  2013-12-21         74        60        45            67           49   \n",
              "1  2013-12-22         56        48        39            43           36   \n",
              "2  2013-12-23         58        45        32            31           27   \n",
              "3  2013-12-24         61        46        31            36           28   \n",
              "4  2013-12-25         58        50        41            44           40   \n",
              "\n",
              "  DewPointLowF HumidityHighPercent HumidityAvgPercent HumidityLowPercent  ...  \\\n",
              "0           43                  93                 75                 57  ...   \n",
              "1           28                  93                 68                 43  ...   \n",
              "2           23                  76                 52                 27  ...   \n",
              "3           21                  89                 56                 22  ...   \n",
              "4           36                  86                 71                 56  ...   \n",
              "\n",
              "  SeaLevelPressureAvgInches SeaLevelPressureLowInches VisibilityHighMiles  \\\n",
              "0                     29.68                     29.59                  10   \n",
              "1                     30.13                     29.87                  10   \n",
              "2                     30.49                     30.41                  10   \n",
              "3                     30.45                      30.3                  10   \n",
              "4                     30.33                     30.27                  10   \n",
              "\n",
              "  VisibilityAvgMiles VisibilityLowMiles WindHighMPH WindAvgMPH WindGustMPH  \\\n",
              "0                  7                  2          20          4          31   \n",
              "1                 10                  5          16          6          25   \n",
              "2                 10                 10           8          3          12   \n",
              "3                 10                  7          12          4          20   \n",
              "4                 10                  7          10          2          16   \n",
              "\n",
              "  PrecipitationSumInches               Events  \n",
              "0                   0.46  Rain , Thunderstorm  \n",
              "1                      0                       \n",
              "2                      0                       \n",
              "3                      0                       \n",
              "4                      T                       \n",
              "\n",
              "[5 rows x 21 columns]"
            ]
          },
          "execution_count": 259,
          "metadata": {},
          "output_type": "execute_result"
        }
      ],
      "source": [
        "dataset = pd.read_csv('austin_weather.csv')\n",
        "dataset.head()"
      ]
    },
    {
      "cell_type": "code",
      "execution_count": null,
      "metadata": {
        "colab": {
          "base_uri": "https://localhost:8080/"
        },
        "id": "URcK0YeHK2Ax",
        "outputId": "3069da0c-e562-419b-913a-5d70f2077e52"
      },
      "outputs": [
        {
          "data": {
            "text/plain": [
              "(1319, 21)"
            ]
          },
          "execution_count": 260,
          "metadata": {},
          "output_type": "execute_result"
        }
      ],
      "source": [
        "dataset.shape"
      ]
    },
    {
      "cell_type": "code",
      "execution_count": null,
      "metadata": {
        "colab": {
          "base_uri": "https://localhost:8080/",
          "height": 361
        },
        "id": "9GTHXK9uK-bf",
        "outputId": "e0dcbaea-2b4e-4ccd-9acf-d89116e05375"
      },
      "outputs": [
        {
          "data": {
            "text/html": [
              "\n",
              "  <div id=\"df-330330f5-c48e-422b-adbc-08760450d676\">\n",
              "    <div class=\"colab-df-container\">\n",
              "      <div>\n",
              "<style scoped>\n",
              "    .dataframe tbody tr th:only-of-type {\n",
              "        vertical-align: middle;\n",
              "    }\n",
              "\n",
              "    .dataframe tbody tr th {\n",
              "        vertical-align: top;\n",
              "    }\n",
              "\n",
              "    .dataframe thead th {\n",
              "        text-align: right;\n",
              "    }\n",
              "</style>\n",
              "<table border=\"1\" class=\"dataframe\">\n",
              "  <thead>\n",
              "    <tr style=\"text-align: right;\">\n",
              "      <th></th>\n",
              "      <th>TempHighF</th>\n",
              "      <th>TempAvgF</th>\n",
              "      <th>TempLowF</th>\n",
              "    </tr>\n",
              "  </thead>\n",
              "  <tbody>\n",
              "    <tr>\n",
              "      <th>count</th>\n",
              "      <td>1319.000000</td>\n",
              "      <td>1319.000000</td>\n",
              "      <td>1319.000000</td>\n",
              "    </tr>\n",
              "    <tr>\n",
              "      <th>mean</th>\n",
              "      <td>80.862775</td>\n",
              "      <td>70.642911</td>\n",
              "      <td>59.902957</td>\n",
              "    </tr>\n",
              "    <tr>\n",
              "      <th>std</th>\n",
              "      <td>14.766523</td>\n",
              "      <td>14.045904</td>\n",
              "      <td>14.190648</td>\n",
              "    </tr>\n",
              "    <tr>\n",
              "      <th>min</th>\n",
              "      <td>32.000000</td>\n",
              "      <td>29.000000</td>\n",
              "      <td>19.000000</td>\n",
              "    </tr>\n",
              "    <tr>\n",
              "      <th>25%</th>\n",
              "      <td>72.000000</td>\n",
              "      <td>62.000000</td>\n",
              "      <td>49.000000</td>\n",
              "    </tr>\n",
              "    <tr>\n",
              "      <th>50%</th>\n",
              "      <td>83.000000</td>\n",
              "      <td>73.000000</td>\n",
              "      <td>63.000000</td>\n",
              "    </tr>\n",
              "    <tr>\n",
              "      <th>75%</th>\n",
              "      <td>92.000000</td>\n",
              "      <td>83.000000</td>\n",
              "      <td>73.000000</td>\n",
              "    </tr>\n",
              "    <tr>\n",
              "      <th>max</th>\n",
              "      <td>107.000000</td>\n",
              "      <td>93.000000</td>\n",
              "      <td>81.000000</td>\n",
              "    </tr>\n",
              "  </tbody>\n",
              "</table>\n",
              "</div>\n",
              "      <button class=\"colab-df-convert\" onclick=\"convertToInteractive('df-330330f5-c48e-422b-adbc-08760450d676')\"\n",
              "              title=\"Convert this dataframe to an interactive table.\"\n",
              "              style=\"display:none;\">\n",
              "        \n",
              "  <svg xmlns=\"http://www.w3.org/2000/svg\" height=\"24px\"viewBox=\"0 0 24 24\"\n",
              "       width=\"24px\">\n",
              "    <path d=\"M0 0h24v24H0V0z\" fill=\"none\"/>\n",
              "    <path d=\"M18.56 5.44l.94 2.06.94-2.06 2.06-.94-2.06-.94-.94-2.06-.94 2.06-2.06.94zm-11 1L8.5 8.5l.94-2.06 2.06-.94-2.06-.94L8.5 2.5l-.94 2.06-2.06.94zm10 10l.94 2.06.94-2.06 2.06-.94-2.06-.94-.94-2.06-.94 2.06-2.06.94z\"/><path d=\"M17.41 7.96l-1.37-1.37c-.4-.4-.92-.59-1.43-.59-.52 0-1.04.2-1.43.59L10.3 9.45l-7.72 7.72c-.78.78-.78 2.05 0 2.83L4 21.41c.39.39.9.59 1.41.59.51 0 1.02-.2 1.41-.59l7.78-7.78 2.81-2.81c.8-.78.8-2.07 0-2.86zM5.41 20L4 18.59l7.72-7.72 1.47 1.35L5.41 20z\"/>\n",
              "  </svg>\n",
              "      </button>\n",
              "      \n",
              "  <style>\n",
              "    .colab-df-container {\n",
              "      display:flex;\n",
              "      flex-wrap:wrap;\n",
              "      gap: 12px;\n",
              "    }\n",
              "\n",
              "    .colab-df-convert {\n",
              "      background-color: #E8F0FE;\n",
              "      border: none;\n",
              "      border-radius: 50%;\n",
              "      cursor: pointer;\n",
              "      display: none;\n",
              "      fill: #1967D2;\n",
              "      height: 32px;\n",
              "      padding: 0 0 0 0;\n",
              "      width: 32px;\n",
              "    }\n",
              "\n",
              "    .colab-df-convert:hover {\n",
              "      background-color: #E2EBFA;\n",
              "      box-shadow: 0px 1px 2px rgba(60, 64, 67, 0.3), 0px 1px 3px 1px rgba(60, 64, 67, 0.15);\n",
              "      fill: #174EA6;\n",
              "    }\n",
              "\n",
              "    [theme=dark] .colab-df-convert {\n",
              "      background-color: #3B4455;\n",
              "      fill: #D2E3FC;\n",
              "    }\n",
              "\n",
              "    [theme=dark] .colab-df-convert:hover {\n",
              "      background-color: #434B5C;\n",
              "      box-shadow: 0px 1px 3px 1px rgba(0, 0, 0, 0.15);\n",
              "      filter: drop-shadow(0px 1px 2px rgba(0, 0, 0, 0.3));\n",
              "      fill: #FFFFFF;\n",
              "    }\n",
              "  </style>\n",
              "\n",
              "      <script>\n",
              "        const buttonEl =\n",
              "          document.querySelector('#df-330330f5-c48e-422b-adbc-08760450d676 button.colab-df-convert');\n",
              "        buttonEl.style.display =\n",
              "          google.colab.kernel.accessAllowed ? 'block' : 'none';\n",
              "\n",
              "        async function convertToInteractive(key) {\n",
              "          const element = document.querySelector('#df-330330f5-c48e-422b-adbc-08760450d676');\n",
              "          const dataTable =\n",
              "            await google.colab.kernel.invokeFunction('convertToInteractive',\n",
              "                                                     [key], {});\n",
              "          if (!dataTable) return;\n",
              "\n",
              "          const docLinkHtml = 'Like what you see? Visit the ' +\n",
              "            '<a target=\"_blank\" href=https://colab.research.google.com/notebooks/data_table.ipynb>data table notebook</a>'\n",
              "            + ' to learn more about interactive tables.';\n",
              "          element.innerHTML = '';\n",
              "          dataTable['output_type'] = 'display_data';\n",
              "          await google.colab.output.renderOutput(dataTable, element);\n",
              "          const docLink = document.createElement('div');\n",
              "          docLink.innerHTML = docLinkHtml;\n",
              "          element.appendChild(docLink);\n",
              "        }\n",
              "      </script>\n",
              "    </div>\n",
              "  </div>\n",
              "  "
            ],
            "text/plain": [
              "         TempHighF     TempAvgF     TempLowF\n",
              "count  1319.000000  1319.000000  1319.000000\n",
              "mean     80.862775    70.642911    59.902957\n",
              "std      14.766523    14.045904    14.190648\n",
              "min      32.000000    29.000000    19.000000\n",
              "25%      72.000000    62.000000    49.000000\n",
              "50%      83.000000    73.000000    63.000000\n",
              "75%      92.000000    83.000000    73.000000\n",
              "max     107.000000    93.000000    81.000000"
            ]
          },
          "execution_count": 261,
          "metadata": {},
          "output_type": "execute_result"
        }
      ],
      "source": [
        "dataset.describe()"
      ]
    },
    {
      "cell_type": "markdown",
      "metadata": {
        "id": "zfdittfaOrMx"
      },
      "source": [
        "## TempLowF and TempHighF - Simple Linear Regression"
      ]
    },
    {
      "cell_type": "markdown",
      "metadata": {
        "id": "qRG1SwjJLPd6"
      },
      "source": [
        "### Data Visualization"
      ]
    },
    {
      "cell_type": "code",
      "execution_count": null,
      "metadata": {
        "colab": {
          "base_uri": "https://localhost:8080/",
          "height": 54
        },
        "id": "Ois3hnSzLCo1",
        "outputId": "ae32da54-51d4-499f-a546-8dff53760c2a"
      },
      "outputs": [
        {
          "data": {
            "image/png": "[encoded data removed]",
            "text/plain": [
              "<Figure size 432x288 with 1 Axes>"
            ]
          },
          "metadata": {
            "needs_background": "light"
          },
          "output_type": "display_data"
        }
      ],
      "source": [
        "dataset.plot(x='TempLowF', y='TempHighF', style='o')  \n",
        "plt.title('MinTemp vs MaxTemp')  \n",
        "plt.xlabel('MinTemp')  \n",
        "plt.ylabel('MaxTemp')  \n",
        "plt.show()"
      ]
    },
    {
      "cell_type": "code",
      "execution_count": null,
      "metadata": {
        "colab": {
          "base_uri": "https://localhost:8080/",
          "height": 71
        },
        "id": "cOXPzHt6Ldgo",
        "outputId": "a7527a32-e84a-4588-fb6b-7a831f87fefa"
      },
      "outputs": [
        {
          "data": {
            "text/plain": [
              "<matplotlib.axes._subplots.AxesSubplot at 0x7fd6fc829590>"
            ]
          },
          "execution_count": 263,
          "metadata": {},
          "output_type": "execute_result"
        },
        {
          "data": {
            "image/png": "[encoded data removed]",
            "text/plain": [
              "<Figure size 1080x720 with 1 Axes>"
            ]
          },
          "metadata": {
            "needs_background": "light"
          },
          "output_type": "display_data"
        }
      ],
      "source": [
        "plt.figure(figsize=(15,10))\n",
        "plt.tight_layout()\n",
        "seabornInstance.distplot(dataset['TempHighF'])"
      ]
    },
    {
      "cell_type": "markdown",
      "metadata": {
        "id": "5wdUPZs_LyLQ"
      },
      "source": [
        "### Data Split"
      ]
    },
    {
      "cell_type": "code",
      "execution_count": null,
      "metadata": {
        "id": "rSX5sBjsL2Yx"
      },
      "outputs": [],
      "source": [
        "X = dataset['TempLowF'].values.reshape(-1,1)\n",
        "y = dataset['TempHighF'].values.reshape(-1,1)"
      ]
    },
    {
      "cell_type": "code",
      "execution_count": null,
      "metadata": {
        "id": "hz5rtkz1L-jK"
      },
      "outputs": [],
      "source": [
        "X_train, X_test, y_train, y_test = train_test_split(X, y, test_size=0.2, random_state=0)\n"
      ]
    },
    {
      "cell_type": "code",
      "execution_count": null,
      "metadata": {
        "colab": {
          "base_uri": "https://localhost:8080/"
        },
        "id": "ZpSnISwrWEbL",
        "outputId": "92afaaa5-115a-48b7-dd1e-5176bb51be91"
      },
      "outputs": [
        {
          "data": {
            "text/plain": [
              "array([90])"
            ]
          },
          "execution_count": 266,
          "metadata": {},
          "output_type": "execute_result"
        }
      ],
      "source": [
        "y_test[0]"
      ]
    },
    {
      "cell_type": "markdown",
      "metadata": {
        "id": "PpQp8IpdMBnh"
      },
      "source": [
        "### Linear Regression"
      ]
    },
    {
      "cell_type": "code",
      "execution_count": null,
      "metadata": {
        "colab": {
          "base_uri": "https://localhost:8080/"
        },
        "id": "rsvAzKlMMBPz",
        "outputId": "bf42d00e-7d91-4993-d1ff-b1d192e321a2"
      },
      "outputs": [
        {
          "data": {
            "text/plain": [
              "LinearRegression()"
            ]
          },
          "execution_count": 267,
          "metadata": {},
          "output_type": "execute_result"
        }
      ],
      "source": [
        "regressor = LinearRegression()  \n",
        "regressor.fit(X_train, y_train) #training the algorithm"
      ]
    },
    {
      "cell_type": "code",
      "execution_count": null,
      "metadata": {
        "colab": {
          "base_uri": "https://localhost:8080/"
        },
        "id": "7iFdiXEIMJlI",
        "outputId": "d0c09b1e-14c2-45fd-ab4a-d8619d06ce10"
      },
      "outputs": [
        {
          "name": "stdout",
          "output_type": "stream",
          "text": [
            "[26.34801274]\n",
            "[[0.9096167]]\n"
          ]
        }
      ],
      "source": [
        "#To retrieve the intercept:\n",
        "print(regressor.intercept_)\n",
        "\n",
        "#For retrieving the slope:\n",
        "print(regressor.coef_)"
      ]
    },
    {
      "cell_type": "markdown",
      "metadata": {
        "id": "kfxdp_yDMQ8x"
      },
      "source": [
        "### Model Evaluation"
      ]
    },
    {
      "cell_type": "code",
      "execution_count": null,
      "metadata": {
        "id": "pcsdN5scMKwa"
      },
      "outputs": [],
      "source": [
        "y_pred = regressor.predict(X_test)"
      ]
    },
    {
      "cell_type": "code",
      "execution_count": null,
      "metadata": {
        "colab": {
          "base_uri": "https://localhost:8080/",
          "height": 419
        },
        "id": "JMU7lpkiMkAb",
        "outputId": "9d75b9f9-820b-40cc-c599-73c360eb8dda"
      },
      "outputs": [
        {
          "data": {
            "text/html": [
              "\n",
              "  <div id=\"df-63f2a293-b286-469c-a9b8-390ef82303bb\">\n",
              "    <div class=\"colab-df-container\">\n",
              "      <div>\n",
              "<style scoped>\n",
              "    .dataframe tbody tr th:only-of-type {\n",
              "        vertical-align: middle;\n",
              "    }\n",
              "\n",
              "    .dataframe tbody tr th {\n",
              "        vertical-align: top;\n",
              "    }\n",
              "\n",
              "    .dataframe thead th {\n",
              "        text-align: right;\n",
              "    }\n",
              "</style>\n",
              "<table border=\"1\" class=\"dataframe\">\n",
              "  <thead>\n",
              "    <tr style=\"text-align: right;\">\n",
              "      <th></th>\n",
              "      <th>Actual</th>\n",
              "      <th>Predicted</th>\n",
              "    </tr>\n",
              "  </thead>\n",
              "  <tbody>\n",
              "    <tr>\n",
              "      <th>0</th>\n",
              "      <td>90</td>\n",
              "      <td>87.292332</td>\n",
              "    </tr>\n",
              "    <tr>\n",
              "      <th>1</th>\n",
              "      <td>62</td>\n",
              "      <td>70.919231</td>\n",
              "    </tr>\n",
              "    <tr>\n",
              "      <th>2</th>\n",
              "      <td>79</td>\n",
              "      <td>70.919231</td>\n",
              "    </tr>\n",
              "    <tr>\n",
              "      <th>3</th>\n",
              "      <td>95</td>\n",
              "      <td>90.930799</td>\n",
              "    </tr>\n",
              "    <tr>\n",
              "      <th>4</th>\n",
              "      <td>83</td>\n",
              "      <td>88.201949</td>\n",
              "    </tr>\n",
              "    <tr>\n",
              "      <th>...</th>\n",
              "      <td>...</td>\n",
              "      <td>...</td>\n",
              "    </tr>\n",
              "    <tr>\n",
              "      <th>259</th>\n",
              "      <td>92</td>\n",
              "      <td>91.840415</td>\n",
              "    </tr>\n",
              "    <tr>\n",
              "      <th>260</th>\n",
              "      <td>96</td>\n",
              "      <td>91.840415</td>\n",
              "    </tr>\n",
              "    <tr>\n",
              "      <th>261</th>\n",
              "      <td>102</td>\n",
              "      <td>97.298116</td>\n",
              "    </tr>\n",
              "    <tr>\n",
              "      <th>262</th>\n",
              "      <td>77</td>\n",
              "      <td>71.828848</td>\n",
              "    </tr>\n",
              "    <tr>\n",
              "      <th>263</th>\n",
              "      <td>100</td>\n",
              "      <td>97.298116</td>\n",
              "    </tr>\n",
              "  </tbody>\n",
              "</table>\n",
              "<p>264 rows × 2 columns</p>\n",
              "</div>\n",
              "      <button class=\"colab-df-convert\" onclick=\"convertToInteractive('df-63f2a293-b286-469c-a9b8-390ef82303bb')\"\n",
              "              title=\"Convert this dataframe to an interactive table.\"\n",
              "              style=\"display:none;\">\n",
              "        \n",
              "  <svg xmlns=\"http://www.w3.org/2000/svg\" height=\"24px\"viewBox=\"0 0 24 24\"\n",
              "       width=\"24px\">\n",
              "    <path d=\"M0 0h24v24H0V0z\" fill=\"none\"/>\n",
              "    <path d=\"M18.56 5.44l.94 2.06.94-2.06 2.06-.94-2.06-.94-.94-2.06-.94 2.06-2.06.94zm-11 1L8.5 8.5l.94-2.06 2.06-.94-2.06-.94L8.5 2.5l-.94 2.06-2.06.94zm10 10l.94 2.06.94-2.06 2.06-.94-2.06-.94-.94-2.06-.94 2.06-2.06.94z\"/><path d=\"M17.41 7.96l-1.37-1.37c-.4-.4-.92-.59-1.43-.59-.52 0-1.04.2-1.43.59L10.3 9.45l-7.72 7.72c-.78.78-.78 2.05 0 2.83L4 21.41c.39.39.9.59 1.41.59.51 0 1.02-.2 1.41-.59l7.78-7.78 2.81-2.81c.8-.78.8-2.07 0-2.86zM5.41 20L4 18.59l7.72-7.72 1.47 1.35L5.41 20z\"/>\n",
              "  </svg>\n",
              "      </button>\n",
              "      \n",
              "  <style>\n",
              "    .colab-df-container {\n",
              "      display:flex;\n",
              "      flex-wrap:wrap;\n",
              "      gap: 12px;\n",
              "    }\n",
              "\n",
              "    .colab-df-convert {\n",
              "      background-color: #E8F0FE;\n",
              "      border: none;\n",
              "      border-radius: 50%;\n",
              "      cursor: pointer;\n",
              "      display: none;\n",
              "      fill: #1967D2;\n",
              "      height: 32px;\n",
              "      padding: 0 0 0 0;\n",
              "      width: 32px;\n",
              "    }\n",
              "\n",
              "    .colab-df-convert:hover {\n",
              "      background-color: #E2EBFA;\n",
              "      box-shadow: 0px 1px 2px rgba(60, 64, 67, 0.3), 0px 1px 3px 1px rgba(60, 64, 67, 0.15);\n",
              "      fill: #174EA6;\n",
              "    }\n",
              "\n",
              "    [theme=dark] .colab-df-convert {\n",
              "      background-color: #3B4455;\n",
              "      fill: #D2E3FC;\n",
              "    }\n",
              "\n",
              "    [theme=dark] .colab-df-convert:hover {\n",
              "      background-color: #434B5C;\n",
              "      box-shadow: 0px 1px 3px 1px rgba(0, 0, 0, 0.15);\n",
              "      filter: drop-shadow(0px 1px 2px rgba(0, 0, 0, 0.3));\n",
              "      fill: #FFFFFF;\n",
              "    }\n",
              "  </style>\n",
              "\n",
              "      <script>\n",
              "        const buttonEl =\n",
              "          document.querySelector('#df-63f2a293-b286-469c-a9b8-390ef82303bb button.colab-df-convert');\n",
              "        buttonEl.style.display =\n",
              "          google.colab.kernel.accessAllowed ? 'block' : 'none';\n",
              "\n",
              "        async function convertToInteractive(key) {\n",
              "          const element = document.querySelector('#df-63f2a293-b286-469c-a9b8-390ef82303bb');\n",
              "          const dataTable =\n",
              "            await google.colab.kernel.invokeFunction('convertToInteractive',\n",
              "                                                     [key], {});\n",
              "          if (!dataTable) return;\n",
              "\n",
              "          const docLinkHtml = 'Like what you see? Visit the ' +\n",
              "            '<a target=\"_blank\" href=https://colab.research.google.com/notebooks/data_table.ipynb>data table notebook</a>'\n",
              "            + ' to learn more about interactive tables.';\n",
              "          element.innerHTML = '';\n",
              "          dataTable['output_type'] = 'display_data';\n",
              "          await google.colab.output.renderOutput(dataTable, element);\n",
              "          const docLink = document.createElement('div');\n",
              "          docLink.innerHTML = docLinkHtml;\n",
              "          element.appendChild(docLink);\n",
              "        }\n",
              "      </script>\n",
              "    </div>\n",
              "  </div>\n",
              "  "
            ],
            "text/plain": [
              "     Actual  Predicted\n",
              "0        90  87.292332\n",
              "1        62  70.919231\n",
              "2        79  70.919231\n",
              "3        95  90.930799\n",
              "4        83  88.201949\n",
              "..      ...        ...\n",
              "259      92  91.840415\n",
              "260      96  91.840415\n",
              "261     102  97.298116\n",
              "262      77  71.828848\n",
              "263     100  97.298116\n",
              "\n",
              "[264 rows x 2 columns]"
            ]
          },
          "execution_count": 270,
          "metadata": {},
          "output_type": "execute_result"
        }
      ],
      "source": [
        "df = pd.DataFrame({'Actual': y_test.flatten(), 'Predicted': y_pred.flatten()})\n",
        "df"
      ]
    },
    {
      "cell_type": "code",
      "execution_count": null,
      "metadata": {
        "colab": {
          "base_uri": "https://localhost:8080/",
          "height": 594
        },
        "id": "ChUzf7-GMmok",
        "outputId": "6c40e1b7-6ce6-4be2-e0f4-af896c7d857b"
      },
      "outputs": [
        {
          "data": {
            "image/png": "[encoded data removed]",
            "text/plain": [
              "<Figure size 1152x720 with 1 Axes>"
            ]
          },
          "metadata": {
            "needs_background": "light"
          },
          "output_type": "display_data"
        }
      ],
      "source": [
        "df1 = df.head(25)\n",
        "df1.plot(kind='bar',figsize=(16,10))\n",
        "plt.grid(which='major', linestyle='-', linewidth='0.5', color='green')\n",
        "plt.grid(which='minor', linestyle=':', linewidth='0.5', color='black')\n",
        "plt.show()"
      ]
    },
    {
      "cell_type": "code",
      "execution_count": null,
      "metadata": {
        "colab": {
          "base_uri": "https://localhost:8080/",
          "height": 267
        },
        "id": "RdNgd_0sMsEr",
        "outputId": "cff70310-3778-4d72-918a-9c075d624f58"
      },
      "outputs": [
        {
          "data": {
            "image/png": "[encoded data removed]",
            "text/plain": [
              "<Figure size 432x288 with 1 Axes>"
            ]
          },
          "metadata": {
            "needs_background": "light"
          },
          "output_type": "display_data"
        }
      ],
      "source": [
        "plt.scatter(X_test, y_test,  color='gray')\n",
        "plt.plot(X_test, y_pred, color='red', linewidth=2)\n",
        "plt.show()"
      ]
    },
    {
      "cell_type": "markdown",
      "metadata": {
        "id": "XMnztsOWM14H"
      },
      "source": [
        "### Metrics\n"
      ]
    },
    {
      "cell_type": "code",
      "execution_count": null,
      "metadata": {
        "colab": {
          "base_uri": "https://localhost:8080/"
        },
        "id": "QAUx5_SyMwrH",
        "outputId": "d6ee3029-ceeb-4323-b93d-c84f027dc83b"
      },
      "outputs": [
        {
          "name": "stdout",
          "output_type": "stream",
          "text": [
            "Mean Absolute Error: 5.254477197701091\n",
            "Mean Squared Error: 45.35992956125359\n",
            "Root Mean Squared Error: 6.734978066872496\n",
            "R2 score = 0.7962215485174373\n"
          ]
        }
      ],
      "source": [
        "print('Mean Absolute Error:', metrics.mean_absolute_error(y_test, y_pred))  \n",
        "print('Mean Squared Error:', metrics.mean_squared_error(y_test, y_pred))  \n",
        "print('Root Mean Squared Error:', np.sqrt(metrics.mean_squared_error(y_test, y_pred)))\n",
        "print('R2 score = ' + str(r2_score(y_test, y_pred)))"
      ]
    },
    {
      "cell_type": "markdown",
      "metadata": {
        "id": "Gw3FU2h_O2fb"
      },
      "source": [
        "## Precipitation Prediction - Multiple Linear Regression"
      ]
    },
    {
      "cell_type": "markdown",
      "metadata": {
        "id": "JjifeMmAPNPJ"
      },
      "source": [
        "### Importing Libraries"
      ]
    },
    {
      "cell_type": "code",
      "execution_count": 3,
      "metadata": {
        "id": "PgS6VPtqPLng"
      },
      "outputs": [],
      "source": [
        "import numpy as np\n",
        "import pandas as pd\n",
        "import matplotlib.pyplot as plt\n",
        "import seaborn as sns\n",
        "from sklearn.preprocessing import StandardScaler\n",
        "from sklearn.model_selection import train_test_split\n",
        "from sklearn.linear_model import LinearRegression\n",
        "\n",
        "import warnings\n",
        "warnings.filterwarnings('ignore')"
      ]
    },
    {
      "cell_type": "markdown",
      "metadata": {
        "id": "6qlB_dO_PRaj"
      },
      "source": [
        "### Reading the data and analyzing"
      ]
    },
    {
      "cell_type": "code",
      "execution_count": 4,
      "metadata": {
        "colab": {
          "base_uri": "https://localhost:8080/",
          "height": 382
        },
        "id": "MmGAZS55PYP4",
        "outputId": "41b80850-606e-4020-9513-c748c3be3a28"
      },
      "outputs": [
        {
          "data": {
            "text/html": [
              "\n",
              "  <div id=\"df-17c1b8d7-8227-438e-acf7-a28ef6329e4c\">\n",
              "    <div class=\"colab-df-container\">\n",
              "      <div>\n",
              "<style scoped>\n",
              "    .dataframe tbody tr th:only-of-type {\n",
              "        vertical-align: middle;\n",
              "    }\n",
              "\n",
              "    .dataframe tbody tr th {\n",
              "        vertical-align: top;\n",
              "    }\n",
              "\n",
              "    .dataframe thead th {\n",
              "        text-align: right;\n",
              "    }\n",
              "</style>\n",
              "<table border=\"1\" class=\"dataframe\">\n",
              "  <thead>\n",
              "    <tr style=\"text-align: right;\">\n",
              "      <th></th>\n",
              "      <th>Date</th>\n",
              "      <th>TempHighF</th>\n",
              "      <th>TempAvgF</th>\n",
              "      <th>TempLowF</th>\n",
              "      <th>DewPointHighF</th>\n",
              "      <th>DewPointAvgF</th>\n",
              "      <th>DewPointLowF</th>\n",
              "      <th>HumidityHighPercent</th>\n",
              "      <th>HumidityAvgPercent</th>\n",
              "      <th>HumidityLowPercent</th>\n",
              "      <th>...</th>\n",
              "      <th>SeaLevelPressureAvgInches</th>\n",
              "      <th>SeaLevelPressureLowInches</th>\n",
              "      <th>VisibilityHighMiles</th>\n",
              "      <th>VisibilityAvgMiles</th>\n",
              "      <th>VisibilityLowMiles</th>\n",
              "      <th>WindHighMPH</th>\n",
              "      <th>WindAvgMPH</th>\n",
              "      <th>WindGustMPH</th>\n",
              "      <th>PrecipitationSumInches</th>\n",
              "      <th>Events</th>\n",
              "    </tr>\n",
              "  </thead>\n",
              "  <tbody>\n",
              "    <tr>\n",
              "      <th>0</th>\n",
              "      <td>2013-12-21</td>\n",
              "      <td>74</td>\n",
              "      <td>60</td>\n",
              "      <td>45</td>\n",
              "      <td>67</td>\n",
              "      <td>49</td>\n",
              "      <td>43</td>\n",
              "      <td>93</td>\n",
              "      <td>75</td>\n",
              "      <td>57</td>\n",
              "      <td>...</td>\n",
              "      <td>29.68</td>\n",
              "      <td>29.59</td>\n",
              "      <td>10</td>\n",
              "      <td>7</td>\n",
              "      <td>2</td>\n",
              "      <td>20</td>\n",
              "      <td>4</td>\n",
              "      <td>31</td>\n",
              "      <td>0.46</td>\n",
              "      <td>Rain , Thunderstorm</td>\n",
              "    </tr>\n",
              "    <tr>\n",
              "      <th>1</th>\n",
              "      <td>2013-12-22</td>\n",
              "      <td>56</td>\n",
              "      <td>48</td>\n",
              "      <td>39</td>\n",
              "      <td>43</td>\n",
              "      <td>36</td>\n",
              "      <td>28</td>\n",
              "      <td>93</td>\n",
              "      <td>68</td>\n",
              "      <td>43</td>\n",
              "      <td>...</td>\n",
              "      <td>30.13</td>\n",
              "      <td>29.87</td>\n",
              "      <td>10</td>\n",
              "      <td>10</td>\n",
              "      <td>5</td>\n",
              "      <td>16</td>\n",
              "      <td>6</td>\n",
              "      <td>25</td>\n",
              "      <td>0</td>\n",
              "      <td></td>\n",
              "    </tr>\n",
              "    <tr>\n",
              "      <th>2</th>\n",
              "      <td>2013-12-23</td>\n",
              "      <td>58</td>\n",
              "      <td>45</td>\n",
              "      <td>32</td>\n",
              "      <td>31</td>\n",
              "      <td>27</td>\n",
              "      <td>23</td>\n",
              "      <td>76</td>\n",
              "      <td>52</td>\n",
              "      <td>27</td>\n",
              "      <td>...</td>\n",
              "      <td>30.49</td>\n",
              "      <td>30.41</td>\n",
              "      <td>10</td>\n",
              "      <td>10</td>\n",
              "      <td>10</td>\n",
              "      <td>8</td>\n",
              "      <td>3</td>\n",
              "      <td>12</td>\n",
              "      <td>0</td>\n",
              "      <td></td>\n",
              "    </tr>\n",
              "    <tr>\n",
              "      <th>3</th>\n",
              "      <td>2013-12-24</td>\n",
              "      <td>61</td>\n",
              "      <td>46</td>\n",
              "      <td>31</td>\n",
              "      <td>36</td>\n",
              "      <td>28</td>\n",
              "      <td>21</td>\n",
              "      <td>89</td>\n",
              "      <td>56</td>\n",
              "      <td>22</td>\n",
              "      <td>...</td>\n",
              "      <td>30.45</td>\n",
              "      <td>30.3</td>\n",
              "      <td>10</td>\n",
              "      <td>10</td>\n",
              "      <td>7</td>\n",
              "      <td>12</td>\n",
              "      <td>4</td>\n",
              "      <td>20</td>\n",
              "      <td>0</td>\n",
              "      <td></td>\n",
              "    </tr>\n",
              "    <tr>\n",
              "      <th>4</th>\n",
              "      <td>2013-12-25</td>\n",
              "      <td>58</td>\n",
              "      <td>50</td>\n",
              "      <td>41</td>\n",
              "      <td>44</td>\n",
              "      <td>40</td>\n",
              "      <td>36</td>\n",
              "      <td>86</td>\n",
              "      <td>71</td>\n",
              "      <td>56</td>\n",
              "      <td>...</td>\n",
              "      <td>30.33</td>\n",
              "      <td>30.27</td>\n",
              "      <td>10</td>\n",
              "      <td>10</td>\n",
              "      <td>7</td>\n",
              "      <td>10</td>\n",
              "      <td>2</td>\n",
              "      <td>16</td>\n",
              "      <td>T</td>\n",
              "      <td></td>\n",
              "    </tr>\n",
              "  </tbody>\n",
              "</table>\n",
              "<p>5 rows × 21 columns</p>\n",
              "</div>\n",
              "      <button class=\"colab-df-convert\" onclick=\"convertToInteractive('df-17c1b8d7-8227-438e-acf7-a28ef6329e4c')\"\n",
              "              title=\"Convert this dataframe to an interactive table.\"\n",
              "              style=\"display:none;\">\n",
              "        \n",
              "  <svg xmlns=\"http://www.w3.org/2000/svg\" height=\"24px\"viewBox=\"0 0 24 24\"\n",
              "       width=\"24px\">\n",
              "    <path d=\"M0 0h24v24H0V0z\" fill=\"none\"/>\n",
              "    <path d=\"M18.56 5.44l.94 2.06.94-2.06 2.06-.94-2.06-.94-.94-2.06-.94 2.06-2.06.94zm-11 1L8.5 8.5l.94-2.06 2.06-.94-2.06-.94L8.5 2.5l-.94 2.06-2.06.94zm10 10l.94 2.06.94-2.06 2.06-.94-2.06-.94-.94-2.06-.94 2.06-2.06.94z\"/><path d=\"M17.41 7.96l-1.37-1.37c-.4-.4-.92-.59-1.43-.59-.52 0-1.04.2-1.43.59L10.3 9.45l-7.72 7.72c-.78.78-.78 2.05 0 2.83L4 21.41c.39.39.9.59 1.41.59.51 0 1.02-.2 1.41-.59l7.78-7.78 2.81-2.81c.8-.78.8-2.07 0-2.86zM5.41 20L4 18.59l7.72-7.72 1.47 1.35L5.41 20z\"/>\n",
              "  </svg>\n",
              "      </button>\n",
              "      \n",
              "  <style>\n",
              "    .colab-df-container {\n",
              "      display:flex;\n",
              "      flex-wrap:wrap;\n",
              "      gap: 12px;\n",
              "    }\n",
              "\n",
              "    .colab-df-convert {\n",
              "      background-color: #E8F0FE;\n",
              "      border: none;\n",
              "      border-radius: 50%;\n",
              "      cursor: pointer;\n",
              "      display: none;\n",
              "      fill: #1967D2;\n",
              "      height: 32px;\n",
              "      padding: 0 0 0 0;\n",
              "      width: 32px;\n",
              "    }\n",
              "\n",
              "    .colab-df-convert:hover {\n",
              "      background-color: #E2EBFA;\n",
              "      box-shadow: 0px 1px 2px rgba(60, 64, 67, 0.3), 0px 1px 3px 1px rgba(60, 64, 67, 0.15);\n",
              "      fill: #174EA6;\n",
              "    }\n",
              "\n",
              "    [theme=dark] .colab-df-convert {\n",
              "      background-color: #3B4455;\n",
              "      fill: #D2E3FC;\n",
              "    }\n",
              "\n",
              "    [theme=dark] .colab-df-convert:hover {\n",
              "      background-color: #434B5C;\n",
              "      box-shadow: 0px 1px 3px 1px rgba(0, 0, 0, 0.15);\n",
              "      filter: drop-shadow(0px 1px 2px rgba(0, 0, 0, 0.3));\n",
              "      fill: #FFFFFF;\n",
              "    }\n",
              "  </style>\n",
              "\n",
              "      <script>\n",
              "        const buttonEl =\n",
              "          document.querySelector('#df-17c1b8d7-8227-438e-acf7-a28ef6329e4c button.colab-df-convert');\n",
              "        buttonEl.style.display =\n",
              "          google.colab.kernel.accessAllowed ? 'block' : 'none';\n",
              "\n",
              "        async function convertToInteractive(key) {\n",
              "          const element = document.querySelector('#df-17c1b8d7-8227-438e-acf7-a28ef6329e4c');\n",
              "          const dataTable =\n",
              "            await google.colab.kernel.invokeFunction('convertToInteractive',\n",
              "                                                     [key], {});\n",
              "          if (!dataTable) return;\n",
              "\n",
              "          const docLinkHtml = 'Like what you see? Visit the ' +\n",
              "            '<a target=\"_blank\" href=https://colab.research.google.com/notebooks/data_table.ipynb>data table notebook</a>'\n",
              "            + ' to learn more about interactive tables.';\n",
              "          element.innerHTML = '';\n",
              "          dataTable['output_type'] = 'display_data';\n",
              "          await google.colab.output.renderOutput(dataTable, element);\n",
              "          const docLink = document.createElement('div');\n",
              "          docLink.innerHTML = docLinkHtml;\n",
              "          element.appendChild(docLink);\n",
              "        }\n",
              "      </script>\n",
              "    </div>\n",
              "  </div>\n",
              "  "
            ],
            "text/plain": [
              "         Date  TempHighF  TempAvgF  TempLowF DewPointHighF DewPointAvgF  \\\n",
              "0  2013-12-21         74        60        45            67           49   \n",
              "1  2013-12-22         56        48        39            43           36   \n",
              "2  2013-12-23         58        45        32            31           27   \n",
              "3  2013-12-24         61        46        31            36           28   \n",
              "4  2013-12-25         58        50        41            44           40   \n",
              "\n",
              "  DewPointLowF HumidityHighPercent HumidityAvgPercent HumidityLowPercent  ...  \\\n",
              "0           43                  93                 75                 57  ...   \n",
              "1           28                  93                 68                 43  ...   \n",
              "2           23                  76                 52                 27  ...   \n",
              "3           21                  89                 56                 22  ...   \n",
              "4           36                  86                 71                 56  ...   \n",
              "\n",
              "  SeaLevelPressureAvgInches SeaLevelPressureLowInches VisibilityHighMiles  \\\n",
              "0                     29.68                     29.59                  10   \n",
              "1                     30.13                     29.87                  10   \n",
              "2                     30.49                     30.41                  10   \n",
              "3                     30.45                      30.3                  10   \n",
              "4                     30.33                     30.27                  10   \n",
              "\n",
              "  VisibilityAvgMiles VisibilityLowMiles WindHighMPH WindAvgMPH WindGustMPH  \\\n",
              "0                  7                  2          20          4          31   \n",
              "1                 10                  5          16          6          25   \n",
              "2                 10                 10           8          3          12   \n",
              "3                 10                  7          12          4          20   \n",
              "4                 10                  7          10          2          16   \n",
              "\n",
              "  PrecipitationSumInches               Events  \n",
              "0                   0.46  Rain , Thunderstorm  \n",
              "1                      0                       \n",
              "2                      0                       \n",
              "3                      0                       \n",
              "4                      T                       \n",
              "\n",
              "[5 rows x 21 columns]"
            ]
          },
          "execution_count": 4,
          "metadata": {},
          "output_type": "execute_result"
        }
      ],
      "source": [
        "data = pd.read_csv(\"austin_weather.csv\")\n",
        "data.head()"
      ]
    },
    {
      "cell_type": "code",
      "execution_count": 5,
      "metadata": {
        "colab": {
          "base_uri": "https://localhost:8080/"
        },
        "id": "q5JnQVfiPgMw",
        "outputId": "ca7a98ef-162b-472d-e2b3-26066fee4fa1"
      },
      "outputs": [
        {
          "data": {
            "text/plain": [
              "Date                          object\n",
              "TempHighF                      int64\n",
              "TempAvgF                       int64\n",
              "TempLowF                       int64\n",
              "DewPointHighF                 object\n",
              "DewPointAvgF                  object\n",
              "DewPointLowF                  object\n",
              "HumidityHighPercent           object\n",
              "HumidityAvgPercent            object\n",
              "HumidityLowPercent            object\n",
              "SeaLevelPressureHighInches    object\n",
              "SeaLevelPressureAvgInches     object\n",
              "SeaLevelPressureLowInches     object\n",
              "VisibilityHighMiles           object\n",
              "VisibilityAvgMiles            object\n",
              "VisibilityLowMiles            object\n",
              "WindHighMPH                   object\n",
              "WindAvgMPH                    object\n",
              "WindGustMPH                   object\n",
              "PrecipitationSumInches        object\n",
              "Events                        object\n",
              "dtype: object"
            ]
          },
          "execution_count": 5,
          "metadata": {},
          "output_type": "execute_result"
        }
      ],
      "source": [
        "data.dtypes"
      ]
    },
    {
      "cell_type": "code",
      "execution_count": 6,
      "metadata": {
        "colab": {
          "base_uri": "https://localhost:8080/"
        },
        "id": "meyDqG1_PrF7",
        "outputId": "6064cae9-b897-4fa0-a690-6962174effcf"
      },
      "outputs": [
        {
          "name": "stdout",
          "output_type": "stream",
          "text": [
            "['67' '43' '31' '36' '44' '39' '41' '49' '51' '37' '55' '54' '15' '29'\n",
            " '60' '64' '58' '28' '42' '22' '38' '45' '19' '59' '62' '40' '17' '53'\n",
            " '34' '48' '52' '61' '63' '33' '57' '65' '46' '32' '50' '27' '56' '47'\n",
            " '68' '69' '66' '70' '73' '71' '76' '72' '75' '74' '-' '77' '23' '35' '30'\n",
            " '79' '78' '80' '26' '18' '25' '13']\n"
          ]
        }
      ],
      "source": [
        "print(data['DewPointHighF'].unique())"
      ]
    },
    {
      "cell_type": "markdown",
      "metadata": {
        "id": "Xa-jIKJiPsit"
      },
      "source": [
        "### Data Preprocessing"
      ]
    },
    {
      "cell_type": "markdown",
      "metadata": {
        "id": "GTx2BobiP8Rm"
      },
      "source": [
        "Data type conversion and replacing non numeric values with ''"
      ]
    },
    {
      "cell_type": "code",
      "execution_count": 7,
      "metadata": {
        "id": "9e75MrSkPvKw"
      },
      "outputs": [],
      "source": [
        "data['DewPointHighF'] = data['DewPointHighF'].str.replace('-','')\n",
        "data['DewPointAvgF'] = data['DewPointAvgF'].str.replace('-','')\n",
        "data['DewPointLowF'] = data['DewPointLowF'].str.replace('-','')\n",
        "data['HumidityHighPercent'] = data['HumidityHighPercent'].str.replace('-','')\n",
        "data['HumidityAvgPercent'] = data['HumidityAvgPercent'].str.replace('-','')\n",
        "data['HumidityLowPercent'] = data['HumidityLowPercent'].str.replace('-','')\n",
        "data['SeaLevelPressureHighInches'] = data['SeaLevelPressureHighInches'].str.replace('-','')\n",
        "data['SeaLevelPressureAvgInches'] = data['SeaLevelPressureAvgInches'].str.replace('-','')\n",
        "data['SeaLevelPressureLowInches'] = data['SeaLevelPressureLowInches'].str.replace('-','')\n",
        "data['VisibilityHighMiles'] = data['VisibilityHighMiles'].str.replace('-','')\n",
        "data['VisibilityAvgMiles'] = data['VisibilityAvgMiles'].str.replace('-','')\n",
        "data['VisibilityLowMiles'] = data['VisibilityLowMiles'].str.replace('-','')\n",
        "data['WindHighMPH'] = data['WindHighMPH'].str.replace('-','')\n",
        "data['WindAvgMPH'] = data['WindAvgMPH'].str.replace('-','')\n",
        "data['WindGustMPH'] = data['WindGustMPH'].str.replace('-','')\n",
        "data['PrecipitationSumInches'] = data['PrecipitationSumInches'].str.replace('T','')\n",
        "\n",
        "#Changing the Column data type to the required Data type.\n",
        "\n",
        "data['DewPointHighF'] = pd.to_numeric(data['DewPointHighF'])\n",
        "data['DewPointAvgF'] = pd.to_numeric(data['DewPointAvgF'])\n",
        "data['DewPointLowF'] = pd.to_numeric(data['DewPointLowF'])\n",
        "data['HumidityHighPercent'] = pd.to_numeric(data['HumidityHighPercent'])\n",
        "data['HumidityAvgPercent'] = pd.to_numeric(data['HumidityAvgPercent'])\n",
        "data['HumidityLowPercent'] = pd.to_numeric(data['HumidityLowPercent'])\n",
        "data['SeaLevelPressureHighInches'] = pd.to_numeric(data['SeaLevelPressureHighInches'])\n",
        "data['SeaLevelPressureAvgInches'] = pd.to_numeric(data['SeaLevelPressureAvgInches'])\n",
        "data['SeaLevelPressureLowInches'] = pd.to_numeric(data['SeaLevelPressureLowInches'])\n",
        "data['VisibilityHighMiles'] = pd.to_numeric(data['VisibilityHighMiles'])\n",
        "data['VisibilityAvgMiles'] = pd.to_numeric(data['VisibilityAvgMiles'])\n",
        "data['VisibilityLowMiles'] = pd.to_numeric(data['VisibilityLowMiles'])\n",
        "data['WindHighMPH'] = pd.to_numeric(data['WindHighMPH'])\n",
        "data['WindAvgMPH'] = pd.to_numeric(data['WindAvgMPH'])\n",
        "data['WindGustMPH'] = pd.to_numeric(data['WindGustMPH'])\n",
        "data['PrecipitationSumInches'] = pd.to_numeric(data['PrecipitationSumInches'])"
      ]
    },
    {
      "cell_type": "code",
      "execution_count": 8,
      "metadata": {
        "colab": {
          "base_uri": "https://localhost:8080/"
        },
        "id": "e2_rFnriP6CG",
        "outputId": "71427551-31ff-4f6a-fd99-eeeda24c0dca"
      },
      "outputs": [
        {
          "data": {
            "text/plain": [
              "Date                            0\n",
              "TempHighF                       0\n",
              "TempAvgF                        0\n",
              "TempLowF                        0\n",
              "DewPointHighF                   7\n",
              "DewPointAvgF                    7\n",
              "DewPointLowF                    7\n",
              "HumidityHighPercent             2\n",
              "HumidityAvgPercent              2\n",
              "HumidityLowPercent              2\n",
              "SeaLevelPressureHighInches      3\n",
              "SeaLevelPressureAvgInches       3\n",
              "SeaLevelPressureLowInches       3\n",
              "VisibilityHighMiles            12\n",
              "VisibilityAvgMiles             12\n",
              "VisibilityLowMiles             12\n",
              "WindHighMPH                     2\n",
              "WindAvgMPH                      2\n",
              "WindGustMPH                     4\n",
              "PrecipitationSumInches        124\n",
              "Events                          0\n",
              "dtype: int64"
            ]
          },
          "execution_count": 8,
          "metadata": {},
          "output_type": "execute_result"
        }
      ],
      "source": [
        "data.isnull().sum()"
      ]
    },
    {
      "cell_type": "markdown",
      "metadata": {
        "id": "8yOIYs_1QK9r"
      },
      "source": [
        "Dropping Null values"
      ]
    },
    {
      "cell_type": "code",
      "execution_count": 9,
      "metadata": {
        "colab": {
          "base_uri": "https://localhost:8080/"
        },
        "id": "i11fZBZ4QELE",
        "outputId": "688d7911-781a-4631-a8b5-8a02deff474b"
      },
      "outputs": [
        {
          "data": {
            "text/plain": [
              "Date                          0\n",
              "TempHighF                     0\n",
              "TempAvgF                      0\n",
              "TempLowF                      0\n",
              "DewPointHighF                 0\n",
              "DewPointAvgF                  0\n",
              "DewPointLowF                  0\n",
              "HumidityHighPercent           0\n",
              "HumidityAvgPercent            0\n",
              "HumidityLowPercent            0\n",
              "SeaLevelPressureHighInches    0\n",
              "SeaLevelPressureAvgInches     0\n",
              "SeaLevelPressureLowInches     0\n",
              "VisibilityHighMiles           0\n",
              "VisibilityAvgMiles            0\n",
              "VisibilityLowMiles            0\n",
              "WindHighMPH                   0\n",
              "WindAvgMPH                    0\n",
              "WindGustMPH                   0\n",
              "PrecipitationSumInches        0\n",
              "Events                        0\n",
              "dtype: int64"
            ]
          },
          "execution_count": 9,
          "metadata": {},
          "output_type": "execute_result"
        }
      ],
      "source": [
        "data.dropna(inplace=True)\n",
        "data.isnull().sum()"
      ]
    },
    {
      "cell_type": "code",
      "execution_count": 10,
      "metadata": {
        "colab": {
          "base_uri": "https://localhost:8080/",
          "height": 361
        },
        "id": "-1Cqpkw6QKeY",
        "outputId": "ebd71af3-b60d-487c-f847-2970d483d684"
      },
      "outputs": [
        {
          "data": {
            "text/html": [
              "\n",
              "  <div id=\"df-fa35eb5e-c29e-49df-b6d4-39b987e4db03\">\n",
              "    <div class=\"colab-df-container\">\n",
              "      <div>\n",
              "<style scoped>\n",
              "    .dataframe tbody tr th:only-of-type {\n",
              "        vertical-align: middle;\n",
              "    }\n",
              "\n",
              "    .dataframe tbody tr th {\n",
              "        vertical-align: top;\n",
              "    }\n",
              "\n",
              "    .dataframe thead th {\n",
              "        text-align: right;\n",
              "    }\n",
              "</style>\n",
              "<table border=\"1\" class=\"dataframe\">\n",
              "  <thead>\n",
              "    <tr style=\"text-align: right;\">\n",
              "      <th></th>\n",
              "      <th>TempHighF</th>\n",
              "      <th>TempAvgF</th>\n",
              "      <th>TempLowF</th>\n",
              "      <th>DewPointHighF</th>\n",
              "      <th>DewPointAvgF</th>\n",
              "      <th>DewPointLowF</th>\n",
              "      <th>HumidityHighPercent</th>\n",
              "      <th>HumidityAvgPercent</th>\n",
              "      <th>HumidityLowPercent</th>\n",
              "      <th>SeaLevelPressureHighInches</th>\n",
              "      <th>SeaLevelPressureAvgInches</th>\n",
              "      <th>SeaLevelPressureLowInches</th>\n",
              "      <th>VisibilityHighMiles</th>\n",
              "      <th>VisibilityAvgMiles</th>\n",
              "      <th>VisibilityLowMiles</th>\n",
              "      <th>WindHighMPH</th>\n",
              "      <th>WindAvgMPH</th>\n",
              "      <th>WindGustMPH</th>\n",
              "      <th>PrecipitationSumInches</th>\n",
              "    </tr>\n",
              "  </thead>\n",
              "  <tbody>\n",
              "    <tr>\n",
              "      <th>count</th>\n",
              "      <td>1183.000000</td>\n",
              "      <td>1183.000000</td>\n",
              "      <td>1183.000000</td>\n",
              "      <td>1183.000000</td>\n",
              "      <td>1183.000000</td>\n",
              "      <td>1183.000000</td>\n",
              "      <td>1183.000000</td>\n",
              "      <td>1183.000000</td>\n",
              "      <td>1183.000000</td>\n",
              "      <td>1183.000000</td>\n",
              "      <td>1183.000000</td>\n",
              "      <td>1183.000000</td>\n",
              "      <td>1183.000000</td>\n",
              "      <td>1183.000000</td>\n",
              "      <td>1183.000000</td>\n",
              "      <td>1183.000000</td>\n",
              "      <td>1183.000000</td>\n",
              "      <td>1183.000000</td>\n",
              "      <td>1183.000000</td>\n",
              "    </tr>\n",
              "    <tr>\n",
              "      <th>mean</th>\n",
              "      <td>80.952663</td>\n",
              "      <td>70.528318</td>\n",
              "      <td>59.601014</td>\n",
              "      <td>61.310228</td>\n",
              "      <td>56.384615</td>\n",
              "      <td>50.678783</td>\n",
              "      <td>87.739645</td>\n",
              "      <td>66.272189</td>\n",
              "      <td>44.295858</td>\n",
              "      <td>30.111412</td>\n",
              "      <td>30.022096</td>\n",
              "      <td>29.931175</td>\n",
              "      <td>9.990702</td>\n",
              "      <td>9.139476</td>\n",
              "      <td>6.808115</td>\n",
              "      <td>13.191040</td>\n",
              "      <td>4.975486</td>\n",
              "      <td>21.300085</td>\n",
              "      <td>0.127380</td>\n",
              "    </tr>\n",
              "    <tr>\n",
              "      <th>std</th>\n",
              "      <td>14.841901</td>\n",
              "      <td>14.142399</td>\n",
              "      <td>14.343669</td>\n",
              "      <td>13.719980</td>\n",
              "      <td>14.984651</td>\n",
              "      <td>16.281365</td>\n",
              "      <td>11.193643</td>\n",
              "      <td>12.744009</td>\n",
              "      <td>17.279440</td>\n",
              "      <td>0.180415</td>\n",
              "      <td>0.172844</td>\n",
              "      <td>0.172662</td>\n",
              "      <td>0.171826</td>\n",
              "      <td>1.477979</td>\n",
              "      <td>3.756263</td>\n",
              "      <td>3.436249</td>\n",
              "      <td>2.069088</td>\n",
              "      <td>5.878959</td>\n",
              "      <td>0.450287</td>\n",
              "    </tr>\n",
              "    <tr>\n",
              "      <th>min</th>\n",
              "      <td>32.000000</td>\n",
              "      <td>29.000000</td>\n",
              "      <td>19.000000</td>\n",
              "      <td>13.000000</td>\n",
              "      <td>8.000000</td>\n",
              "      <td>2.000000</td>\n",
              "      <td>37.000000</td>\n",
              "      <td>27.000000</td>\n",
              "      <td>10.000000</td>\n",
              "      <td>29.630000</td>\n",
              "      <td>29.550000</td>\n",
              "      <td>29.410000</td>\n",
              "      <td>5.000000</td>\n",
              "      <td>2.000000</td>\n",
              "      <td>0.000000</td>\n",
              "      <td>6.000000</td>\n",
              "      <td>1.000000</td>\n",
              "      <td>9.000000</td>\n",
              "      <td>0.000000</td>\n",
              "    </tr>\n",
              "    <tr>\n",
              "      <th>25%</th>\n",
              "      <td>72.000000</td>\n",
              "      <td>61.000000</td>\n",
              "      <td>49.000000</td>\n",
              "      <td>52.000000</td>\n",
              "      <td>46.000000</td>\n",
              "      <td>38.000000</td>\n",
              "      <td>84.000000</td>\n",
              "      <td>59.000000</td>\n",
              "      <td>31.000000</td>\n",
              "      <td>29.990000</td>\n",
              "      <td>29.910000</td>\n",
              "      <td>29.820000</td>\n",
              "      <td>10.000000</td>\n",
              "      <td>9.000000</td>\n",
              "      <td>2.000000</td>\n",
              "      <td>10.000000</td>\n",
              "      <td>3.000000</td>\n",
              "      <td>17.000000</td>\n",
              "      <td>0.000000</td>\n",
              "    </tr>\n",
              "    <tr>\n",
              "      <th>50%</th>\n",
              "      <td>83.000000</td>\n",
              "      <td>73.000000</td>\n",
              "      <td>62.000000</td>\n",
              "      <td>66.000000</td>\n",
              "      <td>61.000000</td>\n",
              "      <td>55.000000</td>\n",
              "      <td>90.000000</td>\n",
              "      <td>66.000000</td>\n",
              "      <td>42.000000</td>\n",
              "      <td>30.080000</td>\n",
              "      <td>30.000000</td>\n",
              "      <td>29.910000</td>\n",
              "      <td>10.000000</td>\n",
              "      <td>10.000000</td>\n",
              "      <td>9.000000</td>\n",
              "      <td>13.000000</td>\n",
              "      <td>5.000000</td>\n",
              "      <td>21.000000</td>\n",
              "      <td>0.000000</td>\n",
              "    </tr>\n",
              "    <tr>\n",
              "      <th>75%</th>\n",
              "      <td>93.000000</td>\n",
              "      <td>83.000000</td>\n",
              "      <td>73.000000</td>\n",
              "      <td>73.000000</td>\n",
              "      <td>69.000000</td>\n",
              "      <td>65.000000</td>\n",
              "      <td>94.000000</td>\n",
              "      <td>74.000000</td>\n",
              "      <td>54.000000</td>\n",
              "      <td>30.210000</td>\n",
              "      <td>30.100000</td>\n",
              "      <td>30.020000</td>\n",
              "      <td>10.000000</td>\n",
              "      <td>10.000000</td>\n",
              "      <td>10.000000</td>\n",
              "      <td>15.000000</td>\n",
              "      <td>6.000000</td>\n",
              "      <td>25.000000</td>\n",
              "      <td>0.010000</td>\n",
              "    </tr>\n",
              "    <tr>\n",
              "      <th>max</th>\n",
              "      <td>107.000000</td>\n",
              "      <td>93.000000</td>\n",
              "      <td>81.000000</td>\n",
              "      <td>80.000000</td>\n",
              "      <td>76.000000</td>\n",
              "      <td>75.000000</td>\n",
              "      <td>100.000000</td>\n",
              "      <td>97.000000</td>\n",
              "      <td>93.000000</td>\n",
              "      <td>30.830000</td>\n",
              "      <td>30.740000</td>\n",
              "      <td>30.610000</td>\n",
              "      <td>10.000000</td>\n",
              "      <td>10.000000</td>\n",
              "      <td>10.000000</td>\n",
              "      <td>29.000000</td>\n",
              "      <td>12.000000</td>\n",
              "      <td>57.000000</td>\n",
              "      <td>5.200000</td>\n",
              "    </tr>\n",
              "  </tbody>\n",
              "</table>\n",
              "</div>\n",
              "      <button class=\"colab-df-convert\" onclick=\"convertToInteractive('df-fa35eb5e-c29e-49df-b6d4-39b987e4db03')\"\n",
              "              title=\"Convert this dataframe to an interactive table.\"\n",
              "              style=\"display:none;\">\n",
              "        \n",
              "  <svg xmlns=\"http://www.w3.org/2000/svg\" height=\"24px\"viewBox=\"0 0 24 24\"\n",
              "       width=\"24px\">\n",
              "    <path d=\"M0 0h24v24H0V0z\" fill=\"none\"/>\n",
              "    <path d=\"M18.56 5.44l.94 2.06.94-2.06 2.06-.94-2.06-.94-.94-2.06-.94 2.06-2.06.94zm-11 1L8.5 8.5l.94-2.06 2.06-.94-2.06-.94L8.5 2.5l-.94 2.06-2.06.94zm10 10l.94 2.06.94-2.06 2.06-.94-2.06-.94-.94-2.06-.94 2.06-2.06.94z\"/><path d=\"M17.41 7.96l-1.37-1.37c-.4-.4-.92-.59-1.43-.59-.52 0-1.04.2-1.43.59L10.3 9.45l-7.72 7.72c-.78.78-.78 2.05 0 2.83L4 21.41c.39.39.9.59 1.41.59.51 0 1.02-.2 1.41-.59l7.78-7.78 2.81-2.81c.8-.78.8-2.07 0-2.86zM5.41 20L4 18.59l7.72-7.72 1.47 1.35L5.41 20z\"/>\n",
              "  </svg>\n",
              "      </button>\n",
              "      \n",
              "  <style>\n",
              "    .colab-df-container {\n",
              "      display:flex;\n",
              "      flex-wrap:wrap;\n",
              "      gap: 12px;\n",
              "    }\n",
              "\n",
              "    .colab-df-convert {\n",
              "      background-color: #E8F0FE;\n",
              "      border: none;\n",
              "      border-radius: 50%;\n",
              "      cursor: pointer;\n",
              "      display: none;\n",
              "      fill: #1967D2;\n",
              "      height: 32px;\n",
              "      padding: 0 0 0 0;\n",
              "      width: 32px;\n",
              "    }\n",
              "\n",
              "    .colab-df-convert:hover {\n",
              "      background-color: #E2EBFA;\n",
              "      box-shadow: 0px 1px 2px rgba(60, 64, 67, 0.3), 0px 1px 3px 1px rgba(60, 64, 67, 0.15);\n",
              "      fill: #174EA6;\n",
              "    }\n",
              "\n",
              "    [theme=dark] .colab-df-convert {\n",
              "      background-color: #3B4455;\n",
              "      fill: #D2E3FC;\n",
              "    }\n",
              "\n",
              "    [theme=dark] .colab-df-convert:hover {\n",
              "      background-color: #434B5C;\n",
              "      box-shadow: 0px 1px 3px 1px rgba(0, 0, 0, 0.15);\n",
              "      filter: drop-shadow(0px 1px 2px rgba(0, 0, 0, 0.3));\n",
              "      fill: #FFFFFF;\n",
              "    }\n",
              "  </style>\n",
              "\n",
              "      <script>\n",
              "        const buttonEl =\n",
              "          document.querySelector('#df-fa35eb5e-c29e-49df-b6d4-39b987e4db03 button.colab-df-convert');\n",
              "        buttonEl.style.display =\n",
              "          google.colab.kernel.accessAllowed ? 'block' : 'none';\n",
              "\n",
              "        async function convertToInteractive(key) {\n",
              "          const element = document.querySelector('#df-fa35eb5e-c29e-49df-b6d4-39b987e4db03');\n",
              "          const dataTable =\n",
              "            await google.colab.kernel.invokeFunction('convertToInteractive',\n",
              "                                                     [key], {});\n",
              "          if (!dataTable) return;\n",
              "\n",
              "          const docLinkHtml = 'Like what you see? Visit the ' +\n",
              "            '<a target=\"_blank\" href=https://colab.research.google.com/notebooks/data_table.ipynb>data table notebook</a>'\n",
              "            + ' to learn more about interactive tables.';\n",
              "          element.innerHTML = '';\n",
              "          dataTable['output_type'] = 'display_data';\n",
              "          await google.colab.output.renderOutput(dataTable, element);\n",
              "          const docLink = document.createElement('div');\n",
              "          docLink.innerHTML = docLinkHtml;\n",
              "          element.appendChild(docLink);\n",
              "        }\n",
              "      </script>\n",
              "    </div>\n",
              "  </div>\n",
              "  "
            ],
            "text/plain": [
              "         TempHighF     TempAvgF     TempLowF  DewPointHighF  DewPointAvgF  \\\n",
              "count  1183.000000  1183.000000  1183.000000    1183.000000   1183.000000   \n",
              "mean     80.952663    70.528318    59.601014      61.310228     56.384615   \n",
              "std      14.841901    14.142399    14.343669      13.719980     14.984651   \n",
              "min      32.000000    29.000000    19.000000      13.000000      8.000000   \n",
              "25%      72.000000    61.000000    49.000000      52.000000     46.000000   \n",
              "50%      83.000000    73.000000    62.000000      66.000000     61.000000   \n",
              "75%      93.000000    83.000000    73.000000      73.000000     69.000000   \n",
              "max     107.000000    93.000000    81.000000      80.000000     76.000000   \n",
              "\n",
              "       DewPointLowF  HumidityHighPercent  HumidityAvgPercent  \\\n",
              "count   1183.000000          1183.000000         1183.000000   \n",
              "mean      50.678783            87.739645           66.272189   \n",
              "std       16.281365            11.193643           12.744009   \n",
              "min        2.000000            37.000000           27.000000   \n",
              "25%       38.000000            84.000000           59.000000   \n",
              "50%       55.000000            90.000000           66.000000   \n",
              "75%       65.000000            94.000000           74.000000   \n",
              "max       75.000000           100.000000           97.000000   \n",
              "\n",
              "       HumidityLowPercent  SeaLevelPressureHighInches  \\\n",
              "count         1183.000000                 1183.000000   \n",
              "mean            44.295858                   30.111412   \n",
              "std             17.279440                    0.180415   \n",
              "min             10.000000                   29.630000   \n",
              "25%             31.000000                   29.990000   \n",
              "50%             42.000000                   30.080000   \n",
              "75%             54.000000                   30.210000   \n",
              "max             93.000000                   30.830000   \n",
              "\n",
              "       SeaLevelPressureAvgInches  SeaLevelPressureLowInches  \\\n",
              "count                1183.000000                1183.000000   \n",
              "mean                   30.022096                  29.931175   \n",
              "std                     0.172844                   0.172662   \n",
              "min                    29.550000                  29.410000   \n",
              "25%                    29.910000                  29.820000   \n",
              "50%                    30.000000                  29.910000   \n",
              "75%                    30.100000                  30.020000   \n",
              "max                    30.740000                  30.610000   \n",
              "\n",
              "       VisibilityHighMiles  VisibilityAvgMiles  VisibilityLowMiles  \\\n",
              "count          1183.000000         1183.000000         1183.000000   \n",
              "mean              9.990702            9.139476            6.808115   \n",
              "std               0.171826            1.477979            3.756263   \n",
              "min               5.000000            2.000000            0.000000   \n",
              "25%              10.000000            9.000000            2.000000   \n",
              "50%              10.000000           10.000000            9.000000   \n",
              "75%              10.000000           10.000000           10.000000   \n",
              "max              10.000000           10.000000           10.000000   \n",
              "\n",
              "       WindHighMPH   WindAvgMPH  WindGustMPH  PrecipitationSumInches  \n",
              "count  1183.000000  1183.000000  1183.000000             1183.000000  \n",
              "mean     13.191040     4.975486    21.300085                0.127380  \n",
              "std       3.436249     2.069088     5.878959                0.450287  \n",
              "min       6.000000     1.000000     9.000000                0.000000  \n",
              "25%      10.000000     3.000000    17.000000                0.000000  \n",
              "50%      13.000000     5.000000    21.000000                0.000000  \n",
              "75%      15.000000     6.000000    25.000000                0.010000  \n",
              "max      29.000000    12.000000    57.000000                5.200000  "
            ]
          },
          "execution_count": 10,
          "metadata": {},
          "output_type": "execute_result"
        }
      ],
      "source": [
        "data.describe()"
      ]
    },
    {
      "cell_type": "code",
      "execution_count": 11,
      "metadata": {
        "colab": {
          "base_uri": "https://localhost:8080/"
        },
        "id": "MhOihK-hQQ4U",
        "outputId": "915f72fd-34e2-4059-a44a-b73783119088"
      },
      "outputs": [
        {
          "data": {
            "text/plain": [
              "Date                           object\n",
              "TempHighF                       int64\n",
              "TempAvgF                        int64\n",
              "TempLowF                        int64\n",
              "DewPointHighF                 float64\n",
              "DewPointAvgF                  float64\n",
              "DewPointLowF                  float64\n",
              "HumidityHighPercent           float64\n",
              "HumidityAvgPercent            float64\n",
              "HumidityLowPercent            float64\n",
              "SeaLevelPressureHighInches    float64\n",
              "SeaLevelPressureAvgInches     float64\n",
              "SeaLevelPressureLowInches     float64\n",
              "VisibilityHighMiles           float64\n",
              "VisibilityAvgMiles            float64\n",
              "VisibilityLowMiles            float64\n",
              "WindHighMPH                   float64\n",
              "WindAvgMPH                    float64\n",
              "WindGustMPH                   float64\n",
              "PrecipitationSumInches        float64\n",
              "Events                         object\n",
              "dtype: object"
            ]
          },
          "execution_count": 11,
          "metadata": {},
          "output_type": "execute_result"
        }
      ],
      "source": [
        "data.dtypes"
      ]
    },
    {
      "cell_type": "code",
      "execution_count": 12,
      "metadata": {
        "id": "ZRjuiheZQVaO"
      },
      "outputs": [],
      "source": [
        "data['Date'] = pd.to_datetime(data['Date'])"
      ]
    },
    {
      "cell_type": "code",
      "execution_count": 13,
      "metadata": {
        "colab": {
          "base_uri": "https://localhost:8080/"
        },
        "id": "LTE9B2b_QXz1",
        "outputId": "3c7f5ab9-3536-4f51-b00b-273e34fc48dc"
      },
      "outputs": [
        {
          "data": {
            "text/plain": [
              "Date                          datetime64[ns]\n",
              "TempHighF                              int64\n",
              "TempAvgF                               int64\n",
              "TempLowF                               int64\n",
              "DewPointHighF                        float64\n",
              "DewPointAvgF                         float64\n",
              "DewPointLowF                         float64\n",
              "HumidityHighPercent                  float64\n",
              "HumidityAvgPercent                   float64\n",
              "HumidityLowPercent                   float64\n",
              "SeaLevelPressureHighInches           float64\n",
              "SeaLevelPressureAvgInches            float64\n",
              "SeaLevelPressureLowInches            float64\n",
              "VisibilityHighMiles                  float64\n",
              "VisibilityAvgMiles                   float64\n",
              "VisibilityLowMiles                   float64\n",
              "WindHighMPH                          float64\n",
              "WindAvgMPH                           float64\n",
              "WindGustMPH                          float64\n",
              "PrecipitationSumInches               float64\n",
              "Events                                object\n",
              "dtype: object"
            ]
          },
          "execution_count": 13,
          "metadata": {},
          "output_type": "execute_result"
        }
      ],
      "source": [
        "data.dtypes"
      ]
    },
    {
      "cell_type": "code",
      "execution_count": 14,
      "metadata": {
        "id": "ElKqn_8aQdcw"
      },
      "outputs": [],
      "source": [
        "# Date column can be split to Year and Month as this will make the dataset more robust and help in the analysis"
      ]
    },
    {
      "cell_type": "code",
      "execution_count": 15,
      "metadata": {
        "id": "bVywAZxWQcq_"
      },
      "outputs": [],
      "source": [
        "data['Year'] = pd.DatetimeIndex(data['Date']).year\n",
        "data['Month'] = pd.DatetimeIndex(data['Date']).month"
      ]
    },
    {
      "cell_type": "code",
      "execution_count": 16,
      "metadata": {
        "id": "7oWneCqxQheU"
      },
      "outputs": [],
      "source": [
        "data.drop(columns='Date',inplace=True)"
      ]
    },
    {
      "cell_type": "markdown",
      "metadata": {
        "id": "WrEdIEvgQjff"
      },
      "source": [
        "### Exploratory Data Analysis"
      ]
    },
    {
      "cell_type": "code",
      "execution_count": 17,
      "metadata": {
        "colab": {
          "base_uri": "https://localhost:8080/",
          "height": 296
        },
        "id": "S9oUOMHHQn0V",
        "outputId": "57a00281-cd0c-4915-9407-163b39699819"
      },
      "outputs": [
        {
          "data": {
            "text/plain": [
              "<matplotlib.axes._subplots.AxesSubplot at 0x7f1176b0f410>"
            ]
          },
          "execution_count": 17,
          "metadata": {},
          "output_type": "execute_result"
        },
        {
          "data": {
            "image/png": "[encoded data removed]",
            "text/plain": [
              "<Figure size 432x288 with 1 Axes>"
            ]
          },
          "metadata": {
            "needs_background": "light"
          },
          "output_type": "display_data"
        }
      ],
      "source": [
        "sns.distplot(data['PrecipitationSumInches'],bins=10)"
      ]
    },
    {
      "cell_type": "code",
      "execution_count": 18,
      "metadata": {
        "colab": {
          "base_uri": "https://localhost:8080/",
          "height": 296
        },
        "id": "O74kfveGQsiq",
        "outputId": "a1afd396-ac54-4387-ec21-442af4aca372"
      },
      "outputs": [
        {
          "data": {
            "text/plain": [
              "<matplotlib.axes._subplots.AxesSubplot at 0x7f1174979cd0>"
            ]
          },
          "execution_count": 18,
          "metadata": {},
          "output_type": "execute_result"
        },
        {
          "data": {
            "image/png": "[encoded data removed]",
            "text/plain": [
              "<Figure size 432x288 with 1 Axes>"
            ]
          },
          "metadata": {
            "needs_background": "light"
          },
          "output_type": "display_data"
        }
      ],
      "source": [
        "sns.boxplot(data['PrecipitationSumInches'])"
      ]
    },
    {
      "cell_type": "code",
      "execution_count": 19,
      "metadata": {
        "colab": {
          "base_uri": "https://localhost:8080/",
          "height": 299
        },
        "id": "6yPJDMnYQuAK",
        "outputId": "36d44cf5-5e16-4d39-ff13-c738385c3c10"
      },
      "outputs": [
        {
          "data": {
            "text/plain": [
              "<matplotlib.axes._subplots.AxesSubplot at 0x7f117448d290>"
            ]
          },
          "execution_count": 19,
          "metadata": {},
          "output_type": "execute_result"
        },
        {
          "data": {
            "image/png": "[encoded data removed]",
            "text/plain": [
              "<Figure size 432x288 with 1 Axes>"
            ]
          },
          "metadata": {
            "needs_background": "light"
          },
          "output_type": "display_data"
        }
      ],
      "source": [
        "data.groupby('Month').mean()['PrecipitationSumInches'].plot(kind='bar')"
      ]
    },
    {
      "cell_type": "code",
      "execution_count": 20,
      "metadata": {
        "colab": {
          "base_uri": "https://localhost:8080/",
          "height": 296
        },
        "id": "EsymRUcWQ4I3",
        "outputId": "1a11249f-eb4d-458c-bb2f-7e52c0e7086a"
      },
      "outputs": [
        {
          "data": {
            "text/plain": [
              "<matplotlib.axes._subplots.AxesSubplot at 0x7f11743b4ad0>"
            ]
          },
          "execution_count": 20,
          "metadata": {},
          "output_type": "execute_result"
        },
        {
          "data": {
            "image/png": "[encoded data removed]",
            "text/plain": [
              "<Figure size 432x288 with 1 Axes>"
            ]
          },
          "metadata": {
            "needs_background": "light"
          },
          "output_type": "display_data"
        }
      ],
      "source": [
        "sns.boxplot(data['Month'],data['PrecipitationSumInches'])"
      ]
    },
    {
      "cell_type": "code",
      "execution_count": 21,
      "metadata": {
        "id": "gJwGdLACQ6QS"
      },
      "outputs": [],
      "source": [
        "data['TempAvgF'].dtype\n",
        "num_col = [i for i in data.columns if data[i].dtype == 'int64' or data[i].dtype == 'float64']"
      ]
    },
    {
      "cell_type": "code",
      "execution_count": 22,
      "metadata": {
        "colab": {
          "base_uri": "https://localhost:8080/",
          "height": 1000
        },
        "id": "KXfayUeUQ87h",
        "outputId": "b42dc541-278b-4b80-946a-c305245f1390"
      },
      "outputs": [
        {
          "data": {
            "image/png": "[encoded data removed]",
            "text/plain": [
              "<Figure size 1080x2520 with 2 Axes>"
            ]
          },
          "metadata": {
            "needs_background": "light"
          },
          "output_type": "display_data"
        },
        {
          "data": {
            "image/png": "[encoded data removed]",
            "text/plain": [
              "<Figure size 1080x2520 with 2 Axes>"
            ]
          },
          "metadata": {
            "needs_background": "light"
          },
          "output_type": "display_data"
        },
        {
          "data": {
            "image/png": "[encoded data removed]",
            "text/plain": [
              "<Figure size 1080x2520 with 2 Axes>"
            ]
          },
          "metadata": {
            "needs_background": "light"
          },
          "output_type": "display_data"
        },
        {
          "data": {
            "image/png": "[encoded data removed]",
            "text/plain": [
              "<Figure size 1080x2520 with 2 Axes>"
            ]
          },
          "metadata": {
            "needs_background": "light"
          },
          "output_type": "display_data"
        },
        {
          "data": {
            "image/png": "[encoded data removed]",
            "text/plain": [
              "<Figure size 1080x2520 with 2 Axes>"
            ]
          },
          "metadata": {
            "needs_background": "light"
          },
          "output_type": "display_data"
        },
        {
          "data": {
            "image/png": "[encoded data removed]",
            "text/plain": [
              "<Figure size 1080x2520 with 2 Axes>"
            ]
          },
          "metadata": {
            "needs_background": "light"
          },
          "output_type": "display_data"
        },
        {
          "data": {
            "image/png": "[encoded data removed]",
            "text/plain": [
              "<Figure size 1080x2520 with 2 Axes>"
            ]
          },
          "metadata": {
            "needs_background": "light"
          },
          "output_type": "display_data"
        },
        {
          "data": {
            "image/png": "[encoded data removed]",
            "text/plain": [
              "<Figure size 1080x2520 with 2 Axes>"
            ]
          },
          "metadata": {
            "needs_background": "light"
          },
          "output_type": "display_data"
        },
        {
          "data": {
            "image/png": "[encoded data removed]",
            "text/plain": [
              "<Figure size 1080x2520 with 2 Axes>"
            ]
          },
          "metadata": {
            "needs_background": "light"
          },
          "output_type": "display_data"
        },
        {
          "data": {
            "image/png": "[encoded data removed]",
            "text/plain": [
              "<Figure size 1080x2520 with 2 Axes>"
            ]
          },
          "metadata": {
            "needs_background": "light"
          },
          "output_type": "display_data"
        },
        {
          "data": {
            "image/png": "[encoded data removed]",
            "text/plain": [
              "<Figure size 1080x2520 with 2 Axes>"
            ]
          },
          "metadata": {
            "needs_background": "light"
          },
          "output_type": "display_data"
        },
        {
          "data": {
            "image/png": "[encoded data removed]",
            "text/plain": [
              "<Figure size 1080x2520 with 2 Axes>"
            ]
          },
          "metadata": {
            "needs_background": "light"
          },
          "output_type": "display_data"
        },
        {
          "data": {
            "image/png": "[encoded data removed]",
            "text/plain": [
              "<Figure size 1080x2520 with 2 Axes>"
            ]
          },
          "metadata": {
            "needs_background": "light"
          },
          "output_type": "display_data"
        },
        {
          "data": {
            "image/png": "[encoded data removed]",
            "text/plain": [
              "<Figure size 1080x2520 with 2 Axes>"
            ]
          },
          "metadata": {
            "needs_background": "light"
          },
          "output_type": "display_data"
        },
        {
          "data": {
            "image/png": "[encoded data removed]",
            "text/plain": [
              "<Figure size 1080x2520 with 2 Axes>"
            ]
          },
          "metadata": {
            "needs_background": "light"
          },
          "output_type": "display_data"
        },
        {
          "data": {
            "image/png": "[encoded data removed]",
            "text/plain": [
              "<Figure size 1080x2520 with 2 Axes>"
            ]
          },
          "metadata": {
            "needs_background": "light"
          },
          "output_type": "display_data"
        },
        {
          "data": {
            "image/png": "[encoded data removed]",
            "text/plain": [
              "<Figure size 1080x2520 with 2 Axes>"
            ]
          },
          "metadata": {
            "needs_background": "light"
          },
          "output_type": "display_data"
        },
        {
          "data": {
            "image/png": "[encoded data removed]",
            "text/plain": [
              "<Figure size 1080x2520 with 2 Axes>"
            ]
          },
          "metadata": {
            "needs_background": "light"
          },
          "output_type": "display_data"
        },
        {
          "data": {
            "image/png": "[encoded data removed]",
            "text/plain": [
              "<Figure size 1080x2520 with 2 Axes>"
            ]
          },
          "metadata": {
            "needs_background": "light"
          },
          "output_type": "display_data"
        },
        {
          "data": {
            "image/png": "[encoded data removed]",
            "text/plain": [
              "<Figure size 1080x2520 with 2 Axes>"
            ]
          },
          "metadata": {
            "needs_background": "light"
          },
          "output_type": "display_data"
        },
        {
          "data": {
            "image/png": "[encoded data removed]",
            "text/plain": [
              "<Figure size 1080x2520 with 2 Axes>"
            ]
          },
          "metadata": {
            "needs_background": "light"
          },
          "output_type": "display_data"
        }
      ],
      "source": [
        "c = 1\n",
        "for i in num_col:\n",
        "    plt.figure(figsize=(15,35))\n",
        "    plt.subplot(21,2,c)\n",
        "    sns.scatterplot(data[i],data['PrecipitationSumInches'])\n",
        "    c = c+1\n",
        "    plt.subplot(21,2,c)\n",
        "    sns.boxplot(data[i])\n",
        "    c=c+1"
      ]
    },
    {
      "cell_type": "code",
      "execution_count": 23,
      "metadata": {
        "id": "x9MLi15URDOU"
      },
      "outputs": [],
      "source": [
        "# data = pd.get_dummies(data,columns=['Events'])\n",
        "data2 = data[['TempAvgF','DewPointAvgF','HumidityAvgPercent','SeaLevelPressureAvgInches','VisibilityAvgMiles','WindAvgMPH','PrecipitationSumInches','Events','Year','Month']]"
      ]
    },
    {
      "cell_type": "code",
      "execution_count": 24,
      "metadata": {
        "id": "suCULjEjRI9w"
      },
      "outputs": [],
      "source": [
        "x = data.drop(columns=['PrecipitationSumInches','Events','Year'])\n",
        "y = data['PrecipitationSumInches']"
      ]
    },
    {
      "cell_type": "code",
      "execution_count": 25,
      "metadata": {
        "id": "H9hdDHuVRMvx"
      },
      "outputs": [],
      "source": [
        "sc = StandardScaler()\n",
        "x_std = sc.fit_transform(x)\n",
        "x_std = pd.DataFrame(x_std,columns=x.columns)"
      ]
    },
    {
      "cell_type": "code",
      "execution_count": 26,
      "metadata": {
        "colab": {
          "base_uri": "https://localhost:8080/",
          "height": 361
        },
        "id": "_UpeIZ1DROUN",
        "outputId": "1c47f918-9ebb-4142-9c3e-2dd2c96cdf4f"
      },
      "outputs": [
        {
          "data": {
            "text/html": [
              "\n",
              "  <div id=\"df-2f8efdf1-7969-4e5d-bda5-f5f547e3c122\">\n",
              "    <div class=\"colab-df-container\">\n",
              "      <div>\n",
              "<style scoped>\n",
              "    .dataframe tbody tr th:only-of-type {\n",
              "        vertical-align: middle;\n",
              "    }\n",
              "\n",
              "    .dataframe tbody tr th {\n",
              "        vertical-align: top;\n",
              "    }\n",
              "\n",
              "    .dataframe thead th {\n",
              "        text-align: right;\n",
              "    }\n",
              "</style>\n",
              "<table border=\"1\" class=\"dataframe\">\n",
              "  <thead>\n",
              "    <tr style=\"text-align: right;\">\n",
              "      <th></th>\n",
              "      <th>TempHighF</th>\n",
              "      <th>TempAvgF</th>\n",
              "      <th>TempLowF</th>\n",
              "      <th>DewPointHighF</th>\n",
              "      <th>DewPointAvgF</th>\n",
              "      <th>DewPointLowF</th>\n",
              "      <th>HumidityHighPercent</th>\n",
              "      <th>HumidityAvgPercent</th>\n",
              "      <th>HumidityLowPercent</th>\n",
              "      <th>SeaLevelPressureHighInches</th>\n",
              "      <th>SeaLevelPressureAvgInches</th>\n",
              "      <th>SeaLevelPressureLowInches</th>\n",
              "      <th>VisibilityHighMiles</th>\n",
              "      <th>VisibilityAvgMiles</th>\n",
              "      <th>VisibilityLowMiles</th>\n",
              "      <th>WindHighMPH</th>\n",
              "      <th>WindAvgMPH</th>\n",
              "      <th>WindGustMPH</th>\n",
              "      <th>Month</th>\n",
              "    </tr>\n",
              "  </thead>\n",
              "  <tbody>\n",
              "    <tr>\n",
              "      <th>count</th>\n",
              "      <td>1.183000e+03</td>\n",
              "      <td>1.183000e+03</td>\n",
              "      <td>1.183000e+03</td>\n",
              "      <td>1.183000e+03</td>\n",
              "      <td>1.183000e+03</td>\n",
              "      <td>1.183000e+03</td>\n",
              "      <td>1.183000e+03</td>\n",
              "      <td>1.183000e+03</td>\n",
              "      <td>1.183000e+03</td>\n",
              "      <td>1.183000e+03</td>\n",
              "      <td>1.183000e+03</td>\n",
              "      <td>1.183000e+03</td>\n",
              "      <td>1.183000e+03</td>\n",
              "      <td>1.183000e+03</td>\n",
              "      <td>1.183000e+03</td>\n",
              "      <td>1.183000e+03</td>\n",
              "      <td>1.183000e+03</td>\n",
              "      <td>1.183000e+03</td>\n",
              "      <td>1.183000e+03</td>\n",
              "    </tr>\n",
              "    <tr>\n",
              "      <th>mean</th>\n",
              "      <td>-2.188538e-16</td>\n",
              "      <td>-2.227954e-16</td>\n",
              "      <td>2.562053e-16</td>\n",
              "      <td>1.346251e-16</td>\n",
              "      <td>-2.501052e-17</td>\n",
              "      <td>1.576648e-17</td>\n",
              "      <td>-6.944759e-16</td>\n",
              "      <td>2.049643e-16</td>\n",
              "      <td>8.033397e-17</td>\n",
              "      <td>-1.915107e-14</td>\n",
              "      <td>8.752180e-15</td>\n",
              "      <td>1.575874e-15</td>\n",
              "      <td>3.471383e-15</td>\n",
              "      <td>-7.196272e-16</td>\n",
              "      <td>-3.459241e-16</td>\n",
              "      <td>-1.138847e-16</td>\n",
              "      <td>2.737549e-16</td>\n",
              "      <td>-1.601518e-16</td>\n",
              "      <td>5.213262e-17</td>\n",
              "    </tr>\n",
              "    <tr>\n",
              "      <th>std</th>\n",
              "      <td>1.000423e+00</td>\n",
              "      <td>1.000423e+00</td>\n",
              "      <td>1.000423e+00</td>\n",
              "      <td>1.000423e+00</td>\n",
              "      <td>1.000423e+00</td>\n",
              "      <td>1.000423e+00</td>\n",
              "      <td>1.000423e+00</td>\n",
              "      <td>1.000423e+00</td>\n",
              "      <td>1.000423e+00</td>\n",
              "      <td>1.000423e+00</td>\n",
              "      <td>1.000423e+00</td>\n",
              "      <td>1.000423e+00</td>\n",
              "      <td>1.000423e+00</td>\n",
              "      <td>1.000423e+00</td>\n",
              "      <td>1.000423e+00</td>\n",
              "      <td>1.000423e+00</td>\n",
              "      <td>1.000423e+00</td>\n",
              "      <td>1.000423e+00</td>\n",
              "      <td>1.000423e+00</td>\n",
              "    </tr>\n",
              "    <tr>\n",
              "      <th>min</th>\n",
              "      <td>-3.299669e+00</td>\n",
              "      <td>-2.937683e+00</td>\n",
              "      <td>-2.831785e+00</td>\n",
              "      <td>-3.522648e+00</td>\n",
              "      <td>-3.230311e+00</td>\n",
              "      <td>-2.991111e+00</td>\n",
              "      <td>-4.534815e+00</td>\n",
              "      <td>-3.082923e+00</td>\n",
              "      <td>-1.985618e+00</td>\n",
              "      <td>-2.669481e+00</td>\n",
              "      <td>-2.732503e+00</td>\n",
              "      <td>-3.019742e+00</td>\n",
              "      <td>-2.905731e+01</td>\n",
              "      <td>-4.832610e+00</td>\n",
              "      <td>-1.813237e+00</td>\n",
              "      <td>-2.093586e+00</td>\n",
              "      <td>-1.922184e+00</td>\n",
              "      <td>-2.093106e+00</td>\n",
              "      <td>-1.511634e+00</td>\n",
              "    </tr>\n",
              "    <tr>\n",
              "      <th>25%</th>\n",
              "      <td>-6.034570e-01</td>\n",
              "      <td>-6.740262e-01</td>\n",
              "      <td>-7.393853e-01</td>\n",
              "      <td>-6.788760e-01</td>\n",
              "      <td>-6.933099e-01</td>\n",
              "      <td>-7.790590e-01</td>\n",
              "      <td>-3.342278e-01</td>\n",
              "      <td>-5.708772e-01</td>\n",
              "      <td>-7.697866e-01</td>\n",
              "      <td>-6.732410e-01</td>\n",
              "      <td>-6.488159e-01</td>\n",
              "      <td>-6.441595e-01</td>\n",
              "      <td>5.413795e-02</td>\n",
              "      <td>-9.440926e-02</td>\n",
              "      <td>-1.280568e+00</td>\n",
              "      <td>-9.290333e-01</td>\n",
              "      <td>-9.551656e-01</td>\n",
              "      <td>-7.317457e-01</td>\n",
              "      <td>-9.248374e-01</td>\n",
              "    </tr>\n",
              "    <tr>\n",
              "      <th>50%</th>\n",
              "      <td>1.380014e-01</td>\n",
              "      <td>1.748450e-01</td>\n",
              "      <td>1.673212e-01</td>\n",
              "      <td>3.419652e-01</td>\n",
              "      <td>3.081377e-01</td>\n",
              "      <td>2.655210e-01</td>\n",
              "      <td>2.020174e-01</td>\n",
              "      <td>-2.136725e-02</td>\n",
              "      <td>-1.329226e-01</td>\n",
              "      <td>-1.741811e-01</td>\n",
              "      <td>-1.278942e-01</td>\n",
              "      <td>-1.226900e-01</td>\n",
              "      <td>5.413795e-02</td>\n",
              "      <td>5.824765e-01</td>\n",
              "      <td>5.837749e-01</td>\n",
              "      <td>-5.561895e-02</td>\n",
              "      <td>1.185272e-02</td>\n",
              "      <td>-5.106541e-02</td>\n",
              "      <td>-4.464219e-02</td>\n",
              "    </tr>\n",
              "    <tr>\n",
              "      <th>75%</th>\n",
              "      <td>8.120545e-01</td>\n",
              "      <td>8.822376e-01</td>\n",
              "      <td>9.345344e-01</td>\n",
              "      <td>8.523858e-01</td>\n",
              "      <td>8.422432e-01</td>\n",
              "      <td>8.799799e-01</td>\n",
              "      <td>5.595142e-01</td>\n",
              "      <td>6.066442e-01</td>\n",
              "      <td>5.618380e-01</td>\n",
              "      <td>5.466831e-01</td>\n",
              "      <td>4.509077e-01</td>\n",
              "      <td>5.146615e-01</td>\n",
              "      <td>5.413795e-02</td>\n",
              "      <td>5.824765e-01</td>\n",
              "      <td>8.501095e-01</td>\n",
              "      <td>5.266573e-01</td>\n",
              "      <td>4.953619e-01</td>\n",
              "      <td>6.296149e-01</td>\n",
              "      <td>8.355530e-01</td>\n",
              "    </tr>\n",
              "    <tr>\n",
              "      <th>max</th>\n",
              "      <td>1.755729e+00</td>\n",
              "      <td>1.589630e+00</td>\n",
              "      <td>1.492508e+00</td>\n",
              "      <td>1.362806e+00</td>\n",
              "      <td>1.309585e+00</td>\n",
              "      <td>1.494439e+00</td>\n",
              "      <td>1.095759e+00</td>\n",
              "      <td>2.412177e+00</td>\n",
              "      <td>2.819810e+00</td>\n",
              "      <td>3.984651e+00</td>\n",
              "      <td>4.155240e+00</td>\n",
              "      <td>3.933183e+00</td>\n",
              "      <td>5.413795e-02</td>\n",
              "      <td>5.824765e-01</td>\n",
              "      <td>8.501095e-01</td>\n",
              "      <td>4.602591e+00</td>\n",
              "      <td>3.396417e+00</td>\n",
              "      <td>6.075058e+00</td>\n",
              "      <td>1.715748e+00</td>\n",
              "    </tr>\n",
              "  </tbody>\n",
              "</table>\n",
              "</div>\n",
              "      <button class=\"colab-df-convert\" onclick=\"convertToInteractive('df-2f8efdf1-7969-4e5d-bda5-f5f547e3c122')\"\n",
              "              title=\"Convert this dataframe to an interactive table.\"\n",
              "              style=\"display:none;\">\n",
              "        \n",
              "  <svg xmlns=\"http://www.w3.org/2000/svg\" height=\"24px\"viewBox=\"0 0 24 24\"\n",
              "       width=\"24px\">\n",
              "    <path d=\"M0 0h24v24H0V0z\" fill=\"none\"/>\n",
              "    <path d=\"M18.56 5.44l.94 2.06.94-2.06 2.06-.94-2.06-.94-.94-2.06-.94 2.06-2.06.94zm-11 1L8.5 8.5l.94-2.06 2.06-.94-2.06-.94L8.5 2.5l-.94 2.06-2.06.94zm10 10l.94 2.06.94-2.06 2.06-.94-2.06-.94-.94-2.06-.94 2.06-2.06.94z\"/><path d=\"M17.41 7.96l-1.37-1.37c-.4-.4-.92-.59-1.43-.59-.52 0-1.04.2-1.43.59L10.3 9.45l-7.72 7.72c-.78.78-.78 2.05 0 2.83L4 21.41c.39.39.9.59 1.41.59.51 0 1.02-.2 1.41-.59l7.78-7.78 2.81-2.81c.8-.78.8-2.07 0-2.86zM5.41 20L4 18.59l7.72-7.72 1.47 1.35L5.41 20z\"/>\n",
              "  </svg>\n",
              "      </button>\n",
              "      \n",
              "  <style>\n",
              "    .colab-df-container {\n",
              "      display:flex;\n",
              "      flex-wrap:wrap;\n",
              "      gap: 12px;\n",
              "    }\n",
              "\n",
              "    .colab-df-convert {\n",
              "      background-color: #E8F0FE;\n",
              "      border: none;\n",
              "      border-radius: 50%;\n",
              "      cursor: pointer;\n",
              "      display: none;\n",
              "      fill: #1967D2;\n",
              "      height: 32px;\n",
              "      padding: 0 0 0 0;\n",
              "      width: 32px;\n",
              "    }\n",
              "\n",
              "    .colab-df-convert:hover {\n",
              "      background-color: #E2EBFA;\n",
              "      box-shadow: 0px 1px 2px rgba(60, 64, 67, 0.3), 0px 1px 3px 1px rgba(60, 64, 67, 0.15);\n",
              "      fill: #174EA6;\n",
              "    }\n",
              "\n",
              "    [theme=dark] .colab-df-convert {\n",
              "      background-color: #3B4455;\n",
              "      fill: #D2E3FC;\n",
              "    }\n",
              "\n",
              "    [theme=dark] .colab-df-convert:hover {\n",
              "      background-color: #434B5C;\n",
              "      box-shadow: 0px 1px 3px 1px rgba(0, 0, 0, 0.15);\n",
              "      filter: drop-shadow(0px 1px 2px rgba(0, 0, 0, 0.3));\n",
              "      fill: #FFFFFF;\n",
              "    }\n",
              "  </style>\n",
              "\n",
              "      <script>\n",
              "        const buttonEl =\n",
              "          document.querySelector('#df-2f8efdf1-7969-4e5d-bda5-f5f547e3c122 button.colab-df-convert');\n",
              "        buttonEl.style.display =\n",
              "          google.colab.kernel.accessAllowed ? 'block' : 'none';\n",
              "\n",
              "        async function convertToInteractive(key) {\n",
              "          const element = document.querySelector('#df-2f8efdf1-7969-4e5d-bda5-f5f547e3c122');\n",
              "          const dataTable =\n",
              "            await google.colab.kernel.invokeFunction('convertToInteractive',\n",
              "                                                     [key], {});\n",
              "          if (!dataTable) return;\n",
              "\n",
              "          const docLinkHtml = 'Like what you see? Visit the ' +\n",
              "            '<a target=\"_blank\" href=https://colab.research.google.com/notebooks/data_table.ipynb>data table notebook</a>'\n",
              "            + ' to learn more about interactive tables.';\n",
              "          element.innerHTML = '';\n",
              "          dataTable['output_type'] = 'display_data';\n",
              "          await google.colab.output.renderOutput(dataTable, element);\n",
              "          const docLink = document.createElement('div');\n",
              "          docLink.innerHTML = docLinkHtml;\n",
              "          element.appendChild(docLink);\n",
              "        }\n",
              "      </script>\n",
              "    </div>\n",
              "  </div>\n",
              "  "
            ],
            "text/plain": [
              "          TempHighF      TempAvgF      TempLowF  DewPointHighF  DewPointAvgF  \\\n",
              "count  1.183000e+03  1.183000e+03  1.183000e+03   1.183000e+03  1.183000e+03   \n",
              "mean  -2.188538e-16 -2.227954e-16  2.562053e-16   1.346251e-16 -2.501052e-17   \n",
              "std    1.000423e+00  1.000423e+00  1.000423e+00   1.000423e+00  1.000423e+00   \n",
              "min   -3.299669e+00 -2.937683e+00 -2.831785e+00  -3.522648e+00 -3.230311e+00   \n",
              "25%   -6.034570e-01 -6.740262e-01 -7.393853e-01  -6.788760e-01 -6.933099e-01   \n",
              "50%    1.380014e-01  1.748450e-01  1.673212e-01   3.419652e-01  3.081377e-01   \n",
              "75%    8.120545e-01  8.822376e-01  9.345344e-01   8.523858e-01  8.422432e-01   \n",
              "max    1.755729e+00  1.589630e+00  1.492508e+00   1.362806e+00  1.309585e+00   \n",
              "\n",
              "       DewPointLowF  HumidityHighPercent  HumidityAvgPercent  \\\n",
              "count  1.183000e+03         1.183000e+03        1.183000e+03   \n",
              "mean   1.576648e-17        -6.944759e-16        2.049643e-16   \n",
              "std    1.000423e+00         1.000423e+00        1.000423e+00   \n",
              "min   -2.991111e+00        -4.534815e+00       -3.082923e+00   \n",
              "25%   -7.790590e-01        -3.342278e-01       -5.708772e-01   \n",
              "50%    2.655210e-01         2.020174e-01       -2.136725e-02   \n",
              "75%    8.799799e-01         5.595142e-01        6.066442e-01   \n",
              "max    1.494439e+00         1.095759e+00        2.412177e+00   \n",
              "\n",
              "       HumidityLowPercent  SeaLevelPressureHighInches  \\\n",
              "count        1.183000e+03                1.183000e+03   \n",
              "mean         8.033397e-17               -1.915107e-14   \n",
              "std          1.000423e+00                1.000423e+00   \n",
              "min         -1.985618e+00               -2.669481e+00   \n",
              "25%         -7.697866e-01               -6.732410e-01   \n",
              "50%         -1.329226e-01               -1.741811e-01   \n",
              "75%          5.618380e-01                5.466831e-01   \n",
              "max          2.819810e+00                3.984651e+00   \n",
              "\n",
              "       SeaLevelPressureAvgInches  SeaLevelPressureLowInches  \\\n",
              "count               1.183000e+03               1.183000e+03   \n",
              "mean                8.752180e-15               1.575874e-15   \n",
              "std                 1.000423e+00               1.000423e+00   \n",
              "min                -2.732503e+00              -3.019742e+00   \n",
              "25%                -6.488159e-01              -6.441595e-01   \n",
              "50%                -1.278942e-01              -1.226900e-01   \n",
              "75%                 4.509077e-01               5.146615e-01   \n",
              "max                 4.155240e+00               3.933183e+00   \n",
              "\n",
              "       VisibilityHighMiles  VisibilityAvgMiles  VisibilityLowMiles  \\\n",
              "count         1.183000e+03        1.183000e+03        1.183000e+03   \n",
              "mean          3.471383e-15       -7.196272e-16       -3.459241e-16   \n",
              "std           1.000423e+00        1.000423e+00        1.000423e+00   \n",
              "min          -2.905731e+01       -4.832610e+00       -1.813237e+00   \n",
              "25%           5.413795e-02       -9.440926e-02       -1.280568e+00   \n",
              "50%           5.413795e-02        5.824765e-01        5.837749e-01   \n",
              "75%           5.413795e-02        5.824765e-01        8.501095e-01   \n",
              "max           5.413795e-02        5.824765e-01        8.501095e-01   \n",
              "\n",
              "        WindHighMPH    WindAvgMPH   WindGustMPH         Month  \n",
              "count  1.183000e+03  1.183000e+03  1.183000e+03  1.183000e+03  \n",
              "mean  -1.138847e-16  2.737549e-16 -1.601518e-16  5.213262e-17  \n",
              "std    1.000423e+00  1.000423e+00  1.000423e+00  1.000423e+00  \n",
              "min   -2.093586e+00 -1.922184e+00 -2.093106e+00 -1.511634e+00  \n",
              "25%   -9.290333e-01 -9.551656e-01 -7.317457e-01 -9.248374e-01  \n",
              "50%   -5.561895e-02  1.185272e-02 -5.106541e-02 -4.464219e-02  \n",
              "75%    5.266573e-01  4.953619e-01  6.296149e-01  8.355530e-01  \n",
              "max    4.602591e+00  3.396417e+00  6.075058e+00  1.715748e+00  "
            ]
          },
          "execution_count": 26,
          "metadata": {},
          "output_type": "execute_result"
        }
      ],
      "source": [
        "x_std.describe()"
      ]
    },
    {
      "cell_type": "markdown",
      "metadata": {
        "id": "EF9Y4r0oRR1H"
      },
      "source": [
        "### Data Modelling"
      ]
    },
    {
      "cell_type": "code",
      "execution_count": 27,
      "metadata": {
        "id": "JmLvc2wGRUPo"
      },
      "outputs": [],
      "source": [
        "x_train,x_test,y_train,y_test = train_test_split(x,y,test_size=0.2,random_state=42)"
      ]
    },
    {
      "cell_type": "code",
      "execution_count": 28,
      "metadata": {
        "colab": {
          "base_uri": "https://localhost:8080/"
        },
        "id": "5otKn0MVWvXF",
        "outputId": "0c46a5eb-5acf-4598-eb86-cdb1482e9bc1"
      },
      "outputs": [
        {
          "data": {
            "text/plain": [
              "array([0.36, 0.  , 0.  , 0.  , 0.  , 0.  , 0.  , 0.  , 0.93, 0.02, 0.  ,\n",
              "       0.  , 0.  , 0.01, 3.66, 0.  , 0.  , 0.  , 0.08, 0.  , 0.  , 0.09,\n",
              "       0.  , 0.  , 0.  , 1.22, 0.  , 0.  , 0.  , 0.16, 0.  , 0.  , 0.  ,\n",
              "       0.04, 0.  , 0.  , 0.  , 0.  , 0.  , 0.02, 0.  , 0.  , 0.  , 0.  ,\n",
              "       0.  , 0.  , 0.  , 0.33, 0.  , 0.  , 2.45, 0.  , 0.  , 0.  , 0.  ,\n",
              "       0.  , 0.03, 0.  , 0.  , 0.24, 0.  , 0.  , 0.  , 0.  , 0.  , 0.  ,\n",
              "       0.  , 0.02, 0.  , 0.  , 0.  , 0.02, 0.01, 0.  , 0.  , 0.  , 0.  ,\n",
              "       0.  , 0.  , 0.  , 0.  , 0.  , 0.  , 0.  , 0.  , 0.  , 0.  , 0.86,\n",
              "       0.61, 0.  , 0.  , 0.  , 0.01, 0.  , 0.  , 0.26, 0.  , 0.  , 0.15,\n",
              "       0.  , 0.  , 0.  , 0.  , 0.  , 0.  , 0.  , 0.09, 0.  , 0.  , 0.  ,\n",
              "       0.  , 0.  , 0.  , 0.  , 0.  , 0.  , 0.  , 0.02, 0.  , 0.19, 0.  ,\n",
              "       0.  , 1.75, 0.92, 0.  , 0.  , 0.73, 0.  , 0.03, 0.01, 0.  , 0.  ,\n",
              "       0.  , 0.  , 0.  , 0.  , 0.  , 0.08, 0.  , 0.  , 0.  , 0.  , 0.  ,\n",
              "       0.  , 2.17, 0.  , 0.  , 1.39, 0.  , 0.27, 1.07, 0.05, 0.13, 0.  ,\n",
              "       0.  , 0.  , 0.  , 0.  , 0.  , 1.17, 0.  , 0.  , 0.  , 0.  , 0.04,\n",
              "       0.  , 0.  , 0.  , 0.  , 0.  , 0.05, 0.14, 1.33, 0.  , 0.  , 0.  ,\n",
              "       0.  , 0.  , 0.  , 0.  , 0.57, 0.  , 0.  , 0.  , 0.  , 0.  , 0.  ,\n",
              "       0.  , 0.  , 0.  , 0.  , 0.22, 0.  , 0.  , 0.  , 0.  , 0.  , 0.23,\n",
              "       0.  , 0.02, 0.  , 0.05, 2.35, 0.  , 0.  , 0.  , 0.  , 0.  , 0.  ,\n",
              "       0.16, 0.  , 0.94, 0.92, 0.  , 0.  , 0.  , 0.  , 0.  , 0.02, 0.  ,\n",
              "       0.  , 0.  , 0.  , 0.19, 0.  , 0.  , 0.05, 0.  , 0.  , 0.  , 0.  ,\n",
              "       0.  , 1.56, 0.  , 0.  , 0.  , 0.  ])"
            ]
          },
          "execution_count": 28,
          "metadata": {},
          "output_type": "execute_result"
        }
      ],
      "source": [
        "y_test.values"
      ]
    },
    {
      "cell_type": "code",
      "execution_count": 29,
      "metadata": {
        "colab": {
          "base_uri": "https://localhost:8080/"
        },
        "id": "cr5fOI6cRXRY",
        "outputId": "5e32669f-54e8-477a-a424-b32ce1e7af55"
      },
      "outputs": [
        {
          "data": {
            "text/plain": [
              "LinearRegression()"
            ]
          },
          "execution_count": 29,
          "metadata": {},
          "output_type": "execute_result"
        }
      ],
      "source": [
        "reg_model = LinearRegression()\n",
        "reg_model.fit(x_train,y_train)"
      ]
    },
    {
      "cell_type": "code",
      "execution_count": 30,
      "metadata": {
        "id": "Aj88saHcRaBt"
      },
      "outputs": [],
      "source": [
        "y_predicted = reg_model.predict(x_test)"
      ]
    },
    {
      "cell_type": "code",
      "execution_count": 31,
      "metadata": {
        "id": "NGtXSW-bSZ9j"
      },
      "outputs": [],
      "source": [
        "day_index = 1035\n",
        "days = [i for i in range(y_test.size)]"
      ]
    },
    {
      "cell_type": "code",
      "execution_count": 32,
      "metadata": {
        "colab": {
          "base_uri": "https://localhost:8080/"
        },
        "id": "aUcmY_JzVBhC",
        "outputId": "3aeb648b-bff3-4c2b-a892-9c2c3ea1ce55"
      },
      "outputs": [
        {
          "data": {
            "text/plain": [
              "894     0.36\n",
              "1266    0.00\n",
              "1167    0.00\n",
              "92      0.00\n",
              "1035    0.00\n",
              "        ... \n",
              "156     1.56\n",
              "469     0.00\n",
              "909     0.00\n",
              "252     0.00\n",
              "1071    0.00\n",
              "Name: PrecipitationSumInches, Length: 237, dtype: float64"
            ]
          },
          "execution_count": 32,
          "metadata": {},
          "output_type": "execute_result"
        }
      ],
      "source": [
        "y_test"
      ]
    },
    {
      "cell_type": "code",
      "execution_count": 33,
      "metadata": {
        "id": "S_M07POmUdTo"
      },
      "outputs": [],
      "source": [
        "day_index = 156\n",
        "days = [i for i in range(y_test.size)]"
      ]
    },
    {
      "cell_type": "code",
      "execution_count": 34,
      "metadata": {
        "colab": {
          "base_uri": "https://localhost:8080/",
          "height": 295
        },
        "id": "tt28aMoCVhUF",
        "outputId": "12ef1629-64be-4043-cf9e-670aaabc440f"
      },
      "outputs": [
        {
          "data": {
            "image/png": "[encoded data removed]",
            "text/plain": [
              "<Figure size 432x288 with 1 Axes>"
            ]
          },
          "metadata": {
            "needs_background": "light"
          },
          "output_type": "display_data"
        }
      ],
      "source": [
        "plt.scatter(days, y_test.values, color='b')\n",
        "plt.scatter(days[day_index], y.values[day_index], color='r')\n",
        "plt.title('Precipitation level')\n",
        "plt.xlabel('Days')\n",
        "plt.ylabel('Precipitation in inches')\n",
        "\n",
        "# Plot a graph of precipitation levels vs n# of days\n",
        "plt.show()"
      ]
    },
    {
      "cell_type": "code",
      "execution_count": 35,
      "metadata": {
        "colab": {
          "base_uri": "https://localhost:8080/",
          "height": 295
        },
        "id": "cx7Gy468UihO",
        "outputId": "d2f2f478-aeaf-45a9-818f-8fdea6cfb0e1"
      },
      "outputs": [
        {
          "data": {
            "image/png": "[encoded data removed]",
            "text/plain": [
              "<Figure size 432x288 with 1 Axes>"
            ]
          },
          "metadata": {
            "needs_background": "light"
          },
          "output_type": "display_data"
        }
      ],
      "source": [
        "plt.scatter(days, y_predicted, color='b')\n",
        "plt.scatter(days[day_index], y_predicted[day_index], color='r')\n",
        "plt.title('Precipitation level')\n",
        "plt.xlabel('Days')\n",
        "plt.ylabel('Precipitation in inches')\n",
        "\n",
        "# Plot a graph of precipitation levels vs n# of days\n",
        "plt.show()"
      ]
    },
    {
      "cell_type": "code",
      "execution_count": 53,
      "metadata": {
        "colab": {
          "base_uri": "https://localhost:8080/",
          "height": 265
        },
        "id": "kjQdtziWfr-_",
        "outputId": "49812fae-3c50-4c65-8dc9-1ba23d88e560"
      },
      "outputs": [
        {
          "data": {
            "image/png": "[encoded data removed]",
            "text/plain": [
              "<Figure size 432x288 with 1 Axes>"
            ]
          },
          "metadata": {
            "needs_background": "light"
          },
          "output_type": "display_data"
        }
      ],
      "source": [
        "plt.scatter(x_test['DewPointAvgF'], y_test,  color='gray')\n",
        "plt.scatter(x_test['DewPointAvgF'], y_predicted, c='b')\n",
        "plt.show()"
      ]
    },
    {
      "cell_type": "code",
      "execution_count": 56,
      "metadata": {
        "colab": {
          "base_uri": "https://localhost:8080/",
          "height": 265
        },
        "id": "756CzBewhXHF",
        "outputId": "f1d8d09c-c3e9-4096-e9d1-25fd6b77b3fb"
      },
      "outputs": [
        {
          "data": {
            "image/png": "[encoded data removed]",
            "text/plain": [
              "<Figure size 432x288 with 1 Axes>"
            ]
          },
          "metadata": {
            "needs_background": "light"
          },
          "output_type": "display_data"
        }
      ],
      "source": [
        "plt.scatter(x_test['HumidityAvgPercent'], y_test,  color='gray')\n",
        "plt.scatter(x_test['HumidityAvgPercent'], y_predicted, c='b')\n",
        "plt.show()"
      ]
    },
    {
      "cell_type": "code",
      "execution_count": 51,
      "metadata": {
        "colab": {
          "base_uri": "https://localhost:8080/",
          "height": 265
        },
        "id": "rnM3Wam1e_S7",
        "outputId": "9e2fb770-65a9-415a-8418-ede1aaee3688"
      },
      "outputs": [
        {
          "data": {
            "image/png": "[encoded data removed]",
            "text/plain": [
              "<Figure size 432x288 with 1 Axes>"
            ]
          },
          "metadata": {
            "needs_background": "light"
          },
          "output_type": "display_data"
        }
      ],
      "source": [
        "plt.scatter(x_test['TempAvgF'], y_test,  color='gray')\n",
        "plt.scatter(x_test['TempAvgF'], y_predicted, c='b')\n",
        "plt.show()"
      ]
    },
    {
      "cell_type": "code",
      "execution_count": 52,
      "metadata": {
        "colab": {
          "base_uri": "https://localhost:8080/"
        },
        "id": "LDuGRwSSRbxq",
        "outputId": "7041f95c-4d0f-406c-e117-ee5a55019e05"
      },
      "outputs": [
        {
          "name": "stdout",
          "output_type": "stream",
          "text": [
            "Mean absolute error = 0.1839913871359751\n",
            "Mean squared error = 0.1094704438546489\n",
            "R2 score = 0.424537122493852\n"
          ]
        }
      ],
      "source": [
        "from sklearn.metrics import mean_absolute_error, mean_squared_error, r2_score\n",
        "\n",
        "\n",
        "print('Mean absolute error = ' + str(mean_absolute_error(y_test, y_predicted)))\n",
        "print('Mean squared error = ' + str(mean_squared_error(y_test, y_predicted)))\n",
        "print('R2 score = ' + str(r2_score(y_test, y_predicted)))"
      ]
    }
  ],
  "metadata": {
    "colab": {
      "collapsed_sections": [
        "xfpVnxkfKcSr",
        "DOEsBtjoKikI",
        "qRG1SwjJLPd6"
      ],
      "name": "ML_01_AustinWeather.ipynb",
      "provenance": []
    },
    "kernelspec": {
      "display_name": "Python 3",
      "name": "python3"
    },
    "language_info": {
      "name": "python"
    }
  },
  "nbformat": 4,
  "nbformat_minor": 0
}
